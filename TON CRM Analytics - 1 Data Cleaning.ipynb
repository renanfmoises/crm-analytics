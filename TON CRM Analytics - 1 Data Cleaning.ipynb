{
 "cells": [
  {
   "cell_type": "markdown",
   "metadata": {},
   "source": [
    "# **TON CRM Analytics - Data Cleaning**"
   ]
  },
  {
   "cell_type": "markdown",
   "metadata": {},
   "source": [
    "**Impotando bibliotecas necessárias**"
   ]
  },
  {
   "cell_type": "code",
   "execution_count": 1,
   "metadata": {},
   "outputs": [],
   "source": [
    "import pandas as pd\n",
    "import numpy as np\n",
    "import matplotlib.pyplot as plt\n",
    "import seaborn as sns\n",
    "import datetime\n",
    "\n",
    "import warnings\n",
    "warnings.filterwarnings('ignore')\n",
    "\n",
    "pd.set_option('display.max_columns', 50)"
   ]
  },
  {
   "cell_type": "markdown",
   "metadata": {},
   "source": [
    "## Data Cleaning"
   ]
  },
  {
   "cell_type": "markdown",
   "metadata": {},
   "source": [
    "**Importando CSVs para o Jupyter Notebook**"
   ]
  },
  {
   "cell_type": "code",
   "execution_count": 2,
   "metadata": {},
   "outputs": [],
   "source": [
    "cases = pd.read_csv('data/cases.csv', date_parser = ['date_ref']) # Cases\n",
    "creds = pd.read_csv('data/creds.csv', date_parser = ['cred_date']) # Credenciamento"
   ]
  },
  {
   "cell_type": "markdown",
   "metadata": {},
   "source": [
    "### Limpeza do dataset `cases`"
   ]
  },
  {
   "cell_type": "code",
   "execution_count": 3,
   "metadata": {},
   "outputs": [
    {
     "data": {
      "text/html": [
       "<div>\n",
       "<style scoped>\n",
       "    .dataframe tbody tr th:only-of-type {\n",
       "        vertical-align: middle;\n",
       "    }\n",
       "\n",
       "    .dataframe tbody tr th {\n",
       "        vertical-align: top;\n",
       "    }\n",
       "\n",
       "    .dataframe thead th {\n",
       "        text-align: right;\n",
       "    }\n",
       "</style>\n",
       "<table border=\"1\" class=\"dataframe\">\n",
       "  <thead>\n",
       "    <tr style=\"text-align: right;\">\n",
       "      <th></th>\n",
       "      <th>Unnamed: 0</th>\n",
       "      <th>accountid</th>\n",
       "      <th>date_ref</th>\n",
       "      <th>channelid</th>\n",
       "      <th>waitingtime</th>\n",
       "      <th>missed</th>\n",
       "      <th>pesquisa_de_satisfa_o__c</th>\n",
       "      <th>assunto</th>\n",
       "      <th>Id</th>\n",
       "    </tr>\n",
       "  </thead>\n",
       "  <tbody>\n",
       "    <tr>\n",
       "      <th>0</th>\n",
       "      <td>0</td>\n",
       "      <td>NaN</td>\n",
       "      <td>NaN</td>\n",
       "      <td>NaN</td>\n",
       "      <td>NaN</td>\n",
       "      <td>NaN</td>\n",
       "      <td>NaN</td>\n",
       "      <td>NaN</td>\n",
       "      <td>NaN</td>\n",
       "    </tr>\n",
       "    <tr>\n",
       "      <th>1</th>\n",
       "      <td>1</td>\n",
       "      <td>NaN</td>\n",
       "      <td>NaN</td>\n",
       "      <td>NaN</td>\n",
       "      <td>NaN</td>\n",
       "      <td>NaN</td>\n",
       "      <td>NaN</td>\n",
       "      <td>NaN</td>\n",
       "      <td>NaN</td>\n",
       "    </tr>\n",
       "    <tr>\n",
       "      <th>2</th>\n",
       "      <td>2</td>\n",
       "      <td>NaN</td>\n",
       "      <td>NaN</td>\n",
       "      <td>NaN</td>\n",
       "      <td>NaN</td>\n",
       "      <td>NaN</td>\n",
       "      <td>NaN</td>\n",
       "      <td>NaN</td>\n",
       "      <td>NaN</td>\n",
       "    </tr>\n",
       "    <tr>\n",
       "      <th>3</th>\n",
       "      <td>3</td>\n",
       "      <td>NaN</td>\n",
       "      <td>NaN</td>\n",
       "      <td>NaN</td>\n",
       "      <td>NaN</td>\n",
       "      <td>NaN</td>\n",
       "      <td>NaN</td>\n",
       "      <td>NaN</td>\n",
       "      <td>NaN</td>\n",
       "    </tr>\n",
       "    <tr>\n",
       "      <th>4</th>\n",
       "      <td>4</td>\n",
       "      <td>0013j00002z0CeEAAU</td>\n",
       "      <td>2020-07-31</td>\n",
       "      <td>2.0</td>\n",
       "      <td>15.0</td>\n",
       "      <td>False</td>\n",
       "      <td>NaN</td>\n",
       "      <td>Aplicativo:Dúvidas funcionalidades App:Primeir...</td>\n",
       "      <td>0013j00002z0CeEAAU</td>\n",
       "    </tr>\n",
       "  </tbody>\n",
       "</table>\n",
       "</div>"
      ],
      "text/plain": [
       "   Unnamed: 0           accountid    date_ref  channelid  waitingtime missed  \\\n",
       "0           0                 NaN         NaN        NaN          NaN    NaN   \n",
       "1           1                 NaN         NaN        NaN          NaN    NaN   \n",
       "2           2                 NaN         NaN        NaN          NaN    NaN   \n",
       "3           3                 NaN         NaN        NaN          NaN    NaN   \n",
       "4           4  0013j00002z0CeEAAU  2020-07-31        2.0         15.0  False   \n",
       "\n",
       "  pesquisa_de_satisfa_o__c                                            assunto  \\\n",
       "0                      NaN                                                NaN   \n",
       "1                      NaN                                                NaN   \n",
       "2                      NaN                                                NaN   \n",
       "3                      NaN                                                NaN   \n",
       "4                      NaN  Aplicativo:Dúvidas funcionalidades App:Primeir...   \n",
       "\n",
       "                   Id  \n",
       "0                 NaN  \n",
       "1                 NaN  \n",
       "2                 NaN  \n",
       "3                 NaN  \n",
       "4  0013j00002z0CeEAAU  "
      ]
     },
     "execution_count": 3,
     "metadata": {},
     "output_type": "execute_result"
    }
   ],
   "source": [
    "cases.head(5)"
   ]
  },
  {
   "cell_type": "markdown",
   "metadata": {},
   "source": [
    "**O dataset `cases` não está no melhor formato para a análise.**\n",
    "\n",
    "Para a limpeza dos dados serão necessários os seguintes passos:\n",
    "\n",
    "1. Dropar coluna `Unnamed: 0`;\n",
    "2. Renomear colunas para facilitar o manuseio da base;\n",
    "3. Remover entradas onde todos os valores são nulos;\n",
    "4. Parsear a coluna `date_ref` para o formato datetime;\n",
    "5. Organiar entradas por `data_ref`, em ordem crescente;\n",
    "6. Checar se as colunas `accountid` (PK) e `Id` são redundantes e, caso forem, eliminar `Id`;\n",
    "7. Estudar valores em `channelid` e `wairingtime`, e, caso necessário, transformá-los em `int`;\n",
    "8. Checar se existem entradas duplicada e, em caso positivo, remover redundancias;\n",
    "9. Estudar coluna `assunto` e entender a melhor maneira de guardar informação de maneira estruturada e aplicar;"
   ]
  },
  {
   "cell_type": "markdown",
   "metadata": {},
   "source": [
    "#### Renomeando colunas"
   ]
  },
  {
   "cell_type": "code",
   "execution_count": 4,
   "metadata": {},
   "outputs": [
    {
     "data": {
      "text/html": [
       "<div>\n",
       "<style scoped>\n",
       "    .dataframe tbody tr th:only-of-type {\n",
       "        vertical-align: middle;\n",
       "    }\n",
       "\n",
       "    .dataframe tbody tr th {\n",
       "        vertical-align: top;\n",
       "    }\n",
       "\n",
       "    .dataframe thead th {\n",
       "        text-align: right;\n",
       "    }\n",
       "</style>\n",
       "<table border=\"1\" class=\"dataframe\">\n",
       "  <thead>\n",
       "    <tr style=\"text-align: right;\">\n",
       "      <th></th>\n",
       "      <th>unnamed</th>\n",
       "      <th>account_id</th>\n",
       "      <th>date_ref</th>\n",
       "      <th>channel_id</th>\n",
       "      <th>waiting_time</th>\n",
       "      <th>missed</th>\n",
       "      <th>pesq_satisfacao</th>\n",
       "      <th>assunto</th>\n",
       "      <th>id</th>\n",
       "    </tr>\n",
       "  </thead>\n",
       "  <tbody>\n",
       "    <tr>\n",
       "      <th>0</th>\n",
       "      <td>0</td>\n",
       "      <td>NaN</td>\n",
       "      <td>NaN</td>\n",
       "      <td>NaN</td>\n",
       "      <td>NaN</td>\n",
       "      <td>NaN</td>\n",
       "      <td>NaN</td>\n",
       "      <td>NaN</td>\n",
       "      <td>NaN</td>\n",
       "    </tr>\n",
       "    <tr>\n",
       "      <th>1</th>\n",
       "      <td>1</td>\n",
       "      <td>NaN</td>\n",
       "      <td>NaN</td>\n",
       "      <td>NaN</td>\n",
       "      <td>NaN</td>\n",
       "      <td>NaN</td>\n",
       "      <td>NaN</td>\n",
       "      <td>NaN</td>\n",
       "      <td>NaN</td>\n",
       "    </tr>\n",
       "    <tr>\n",
       "      <th>2</th>\n",
       "      <td>2</td>\n",
       "      <td>NaN</td>\n",
       "      <td>NaN</td>\n",
       "      <td>NaN</td>\n",
       "      <td>NaN</td>\n",
       "      <td>NaN</td>\n",
       "      <td>NaN</td>\n",
       "      <td>NaN</td>\n",
       "      <td>NaN</td>\n",
       "    </tr>\n",
       "  </tbody>\n",
       "</table>\n",
       "</div>"
      ],
      "text/plain": [
       "   unnamed account_id date_ref  channel_id  waiting_time missed  \\\n",
       "0        0        NaN      NaN         NaN           NaN    NaN   \n",
       "1        1        NaN      NaN         NaN           NaN    NaN   \n",
       "2        2        NaN      NaN         NaN           NaN    NaN   \n",
       "\n",
       "  pesq_satisfacao assunto   id  \n",
       "0             NaN     NaN  NaN  \n",
       "1             NaN     NaN  NaN  \n",
       "2             NaN     NaN  NaN  "
      ]
     },
     "execution_count": 4,
     "metadata": {},
     "output_type": "execute_result"
    }
   ],
   "source": [
    "# Renomeando colunas:\n",
    "cases.columns = ['unnamed',\n",
    "                 'account_id', \n",
    "                 'date_ref',\n",
    "                 'channel_id',\n",
    "                 'waiting_time',\n",
    "                 'missed', \n",
    "                 'pesq_satisfacao', \n",
    "                 'assunto', \n",
    "                 'id']\n",
    "\n",
    "cases.head(3)"
   ]
  },
  {
   "cell_type": "markdown",
   "metadata": {},
   "source": [
    "#### Dropando `unnamed`"
   ]
  },
  {
   "cell_type": "code",
   "execution_count": 5,
   "metadata": {},
   "outputs": [],
   "source": [
    "# Drop \"Unnamed: 0\"\n",
    "cases.duplicated('unnamed').sum() # Confirmando se foram criados valores duplicados \n",
    "                                     # no índice na criação do dataset\n",
    "cases = cases.drop('unnamed', axis = 1)"
   ]
  },
  {
   "cell_type": "markdown",
   "metadata": {},
   "source": [
    "#### Removendo nulos\n",
    "\n",
    "Removendo entradas (linhas) com _todos_ os valores nulos:"
   ]
  },
  {
   "cell_type": "code",
   "execution_count": 6,
   "metadata": {},
   "outputs": [
    {
     "data": {
      "text/plain": [
       "49500"
      ]
     },
     "execution_count": 6,
     "metadata": {},
     "output_type": "execute_result"
    }
   ],
   "source": [
    "cases['account_id'].isna().sum() # PK Cases faltantes"
   ]
  },
  {
   "cell_type": "code",
   "execution_count": 7,
   "metadata": {},
   "outputs": [
    {
     "name": "stdout",
     "output_type": "stream",
     "text": [
      "Qtd entradas dataset original:         126989 \n",
      "Qtd entradas dataset sem NaNs:          77489 \n",
      "Qtd entradas descartadas após dropna:   49500\n"
     ]
    }
   ],
   "source": [
    "# Removendo nulos\n",
    "ccases = cases.dropna(how = 'all', axis = 0) # ccases = cleaned cases\n",
    "ccases.shape\n",
    "\n",
    "# Reportando alterações\n",
    "print(\"Qtd entradas dataset original:        \", len(cases), \n",
    "      \"\\nQtd entradas dataset sem NaNs:         \", len(ccases), \n",
    "      \"\\nQtd entradas descartadas após dropna:  \", (len(cases)-len(ccases)))"
   ]
  },
  {
   "cell_type": "code",
   "execution_count": 8,
   "metadata": {},
   "outputs": [
    {
     "data": {
      "text/plain": [
       "account_id             0\n",
       "date_ref               0\n",
       "channel_id             0\n",
       "waiting_time           0\n",
       "missed                 0\n",
       "pesq_satisfacao    65904\n",
       "assunto                0\n",
       "id                     0\n",
       "dtype: int64"
      ]
     },
     "execution_count": 8,
     "metadata": {},
     "output_type": "execute_result"
    }
   ],
   "source": [
    "# Checando valores nulos remanescentes\n",
    "ccases.isna().sum()"
   ]
  },
  {
   "cell_type": "markdown",
   "metadata": {},
   "source": [
    "#### Investigando `accountid`\n",
    "\n",
    "**Dúvida: `accountid` atende os requisitos para ser Primary Key do dataset?**\n",
    "\n",
    "Conforme dicionário dos dados, a coluna `accountid` deveria ser a chave primária (Primary Key, PK) da tabela, para atender a esse requisito, ela deve ser única em cada uma das linhas.\n",
    "\n",
    "No entando, parece razoavel pensar que no espaço temporal compreendido neste dataset, um mesmo cliente (cada um com um account id único, pode ter realizado varios chamados na central de relacionamento (CR).\n",
    "\n",
    "Vamos verificar:"
   ]
  },
  {
   "cell_type": "code",
   "execution_count": 9,
   "metadata": {
    "scrolled": true
   },
   "outputs": [
    {
     "data": {
      "text/plain": [
       "True     95559\n",
       "False    31430\n",
       "dtype: int64"
      ]
     },
     "execution_count": 9,
     "metadata": {},
     "output_type": "execute_result"
    }
   ],
   "source": [
    "# Checando duplicidade de 'accountid' no dataset\n",
    "cases.duplicated('account_id').value_counts()"
   ]
  },
  {
   "cell_type": "markdown",
   "metadata": {},
   "source": [
    "**31430 valores _False_** indica que, conforme intuido anteriormente, varias contas chamaram à CR mais de uma vez. Portanto, essa não pode ser a chave primária da tabela.\n",
    "\n",
    "Como não há uma outra que possa ocupar essa posição, manteremos o index do dataset como chave primária, em que cada linha representa um chamado junto à empresa."
   ]
  },
  {
   "cell_type": "markdown",
   "metadata": {},
   "source": [
    "#### Ordenando dataset a partir de `date_ref`"
   ]
  },
  {
   "cell_type": "code",
   "execution_count": 10,
   "metadata": {},
   "outputs": [],
   "source": [
    "# Ordenando dataset\n",
    "ccases = ccases.sort_values('date_ref')"
   ]
  },
  {
   "cell_type": "markdown",
   "metadata": {},
   "source": [
    "#### Checando redundancia\n",
    "Verificando se informação das colunas `accountid` (PK) e `Id` é a mesma."
   ]
  },
  {
   "cell_type": "code",
   "execution_count": 11,
   "metadata": {},
   "outputs": [
    {
     "data": {
      "text/plain": [
       "0"
      ]
     },
     "execution_count": 11,
     "metadata": {},
     "output_type": "execute_result"
    }
   ],
   "source": [
    "# Checando se existem valores diferentes em account_id e id\n",
    "(ccases['account_id'] != ccases['id']).sum()"
   ]
  },
  {
   "cell_type": "code",
   "execution_count": 12,
   "metadata": {},
   "outputs": [],
   "source": [
    "# Dropando coluna redundante 'id'\n",
    "ccases = ccases.drop('id', axis = 1)\n",
    "# ccases.head(3)"
   ]
  },
  {
   "cell_type": "markdown",
   "metadata": {},
   "source": [
    "#### Revisando `channel_id`\n",
    "Estudar valores em `channelid` e parsear para `int`, se for o caso."
   ]
  },
  {
   "cell_type": "code",
   "execution_count": 13,
   "metadata": {},
   "outputs": [
    {
     "data": {
      "text/plain": [
       "2.0    77489\n",
       "Name: channel_id, dtype: int64"
      ]
     },
     "execution_count": 13,
     "metadata": {},
     "output_type": "execute_result"
    }
   ],
   "source": [
    "ccases['channel_id'].value_counts() # Apenas um valor encontrado; De acordo com o dicionário de dados este canal\n",
    "                                    # são chamados recebidos via telefone. A coluna pode ser descartada, pois\n",
    "                                    # a análise agora é especifica para esse canal."
   ]
  },
  {
   "cell_type": "code",
   "execution_count": 14,
   "metadata": {},
   "outputs": [],
   "source": [
    "# Dropando coluna \"channel_id\"\n",
    "ccases.drop('channel_id', axis = 1, inplace = True)\n",
    "# ccases.head(3)"
   ]
  },
  {
   "cell_type": "markdown",
   "metadata": {},
   "source": [
    "#### Checando entradas duplicadas"
   ]
  },
  {
   "cell_type": "code",
   "execution_count": 15,
   "metadata": {},
   "outputs": [
    {
     "data": {
      "text/plain": [
       "0"
      ]
     },
     "execution_count": 15,
     "metadata": {},
     "output_type": "execute_result"
    }
   ],
   "source": [
    "ccases.duplicated().sum() # Não existem entradas duplicadas."
   ]
  },
  {
   "cell_type": "code",
   "execution_count": 16,
   "metadata": {},
   "outputs": [
    {
     "data": {
      "text/html": [
       "<div>\n",
       "<style scoped>\n",
       "    .dataframe tbody tr th:only-of-type {\n",
       "        vertical-align: middle;\n",
       "    }\n",
       "\n",
       "    .dataframe tbody tr th {\n",
       "        vertical-align: top;\n",
       "    }\n",
       "\n",
       "    .dataframe thead th {\n",
       "        text-align: right;\n",
       "    }\n",
       "</style>\n",
       "<table border=\"1\" class=\"dataframe\">\n",
       "  <thead>\n",
       "    <tr style=\"text-align: right;\">\n",
       "      <th></th>\n",
       "      <th>account_id</th>\n",
       "      <th>date_ref</th>\n",
       "      <th>waiting_time</th>\n",
       "      <th>missed</th>\n",
       "      <th>pesq_satisfacao</th>\n",
       "      <th>assunto</th>\n",
       "    </tr>\n",
       "  </thead>\n",
       "  <tbody>\n",
       "    <tr>\n",
       "      <th>0</th>\n",
       "      <td>0011L00002ZbpnlQAB</td>\n",
       "      <td>2020-02-23</td>\n",
       "      <td>19.0</td>\n",
       "      <td>False</td>\n",
       "      <td>Enviado</td>\n",
       "      <td>Produto:mPOS:Dúvidas mpos</td>\n",
       "    </tr>\n",
       "    <tr>\n",
       "      <th>1</th>\n",
       "      <td>0011L00002dbBg5QAE</td>\n",
       "      <td>2020-02-25</td>\n",
       "      <td>15.0</td>\n",
       "      <td>False</td>\n",
       "      <td>Enviado</td>\n",
       "      <td>Aplicativo:Problema:</td>\n",
       "    </tr>\n",
       "    <tr>\n",
       "      <th>2</th>\n",
       "      <td>0011L00002WdgbcQAB</td>\n",
       "      <td>2020-02-26</td>\n",
       "      <td>15.0</td>\n",
       "      <td>False</td>\n",
       "      <td>Enviado</td>\n",
       "      <td>Aplicativo:Dúvidas funcionalidades App:Redefin...</td>\n",
       "    </tr>\n",
       "    <tr>\n",
       "      <th>3</th>\n",
       "      <td>0011L00002WdJgjQAF</td>\n",
       "      <td>2020-02-26</td>\n",
       "      <td>13.0</td>\n",
       "      <td>False</td>\n",
       "      <td>Enviado</td>\n",
       "      <td>Produto:mPOS:Problema POS - revertido</td>\n",
       "    </tr>\n",
       "    <tr>\n",
       "      <th>4</th>\n",
       "      <td>0011L00002We7cjQAB</td>\n",
       "      <td>2020-02-26</td>\n",
       "      <td>72.0</td>\n",
       "      <td>False</td>\n",
       "      <td>Enviado</td>\n",
       "      <td>Aplicativo::</td>\n",
       "    </tr>\n",
       "  </tbody>\n",
       "</table>\n",
       "</div>"
      ],
      "text/plain": [
       "           account_id    date_ref  waiting_time missed pesq_satisfacao  \\\n",
       "0  0011L00002ZbpnlQAB  2020-02-23          19.0  False         Enviado   \n",
       "1  0011L00002dbBg5QAE  2020-02-25          15.0  False         Enviado   \n",
       "2  0011L00002WdgbcQAB  2020-02-26          15.0  False         Enviado   \n",
       "3  0011L00002WdJgjQAF  2020-02-26          13.0  False         Enviado   \n",
       "4  0011L00002We7cjQAB  2020-02-26          72.0  False         Enviado   \n",
       "\n",
       "                                             assunto  \n",
       "0                          Produto:mPOS:Dúvidas mpos  \n",
       "1                               Aplicativo:Problema:  \n",
       "2  Aplicativo:Dúvidas funcionalidades App:Redefin...  \n",
       "3              Produto:mPOS:Problema POS - revertido  \n",
       "4                                       Aplicativo::  "
      ]
     },
     "execution_count": 16,
     "metadata": {},
     "output_type": "execute_result"
    }
   ],
   "source": [
    "ccases = ccases.reset_index(drop = True)\n",
    "ccases.head(5)"
   ]
  },
  {
   "cell_type": "code",
   "execution_count": 17,
   "metadata": {},
   "outputs": [],
   "source": [
    "# ccases.tail(5)"
   ]
  },
  {
   "cell_type": "markdown",
   "metadata": {},
   "source": [
    "#### Parseando `date_ref` \n",
    "Mudando dados da colunas para formato datetime"
   ]
  },
  {
   "cell_type": "code",
   "execution_count": 18,
   "metadata": {
    "scrolled": false
   },
   "outputs": [],
   "source": [
    "# Formatando data type da coluna \"date_ref\"\n",
    "ccases['date_ref'] = pd.to_datetime(ccases['date_ref'])\n",
    "# ccases.info()"
   ]
  },
  {
   "cell_type": "markdown",
   "metadata": {},
   "source": [
    "#### Feature engineering dados temporais\n",
    "Transformando coluna `waiting_time` (medido em segundos) para dtype `int` e `timedelta` (para operações com data e hora)"
   ]
  },
  {
   "cell_type": "code",
   "execution_count": 19,
   "metadata": {},
   "outputs": [],
   "source": [
    "ccases['waiting_time'] = ccases['waiting_time'].astype(int)"
   ]
  },
  {
   "cell_type": "code",
   "execution_count": 20,
   "metadata": {},
   "outputs": [],
   "source": [
    "ccases['waiting_time'] = ccases['waiting_time'].astype(int)\n",
    "ccases['waiting_timedelta'] = pd.to_timedelta(ccases['waiting_time'], unit = 'S')"
   ]
  },
  {
   "cell_type": "code",
   "execution_count": 21,
   "metadata": {},
   "outputs": [],
   "source": [
    "def explode_date(df, date_column, language_ptbr = True):\n",
    "    '''Generates year, month, day and weekday from a single date column.\n",
    "        \n",
    "    :::::::\n",
    "    \n",
    "    df:            DataFrame containing the date column to be exploded.\n",
    "    date_column:   Date column (Series) to be used as base for the transformation.\n",
    "    language_ptbr: If True, parse weekday names to Brazilian Portuguese. \n",
    "                      False, weekdays will be parsed to English.\n",
    "    \n",
    "    :::::::\n",
    "\n",
    "    '''\n",
    "    df[date_column] = pd.to_datetime(df[date_column])\n",
    "    df['year'] = df[date_column].dt.year \n",
    "    df['month'] = df[date_column].dt.month\n",
    "    df['day'] = df[date_column].dt.day\n",
    "    df['weekday'] = df[date_column].dt.weekday\n",
    "    \n",
    "    if language_ptbr:\n",
    "        df['weekday_str'] = df['weekday'].map({\n",
    "                                    0: 'Seg',\n",
    "                                    1: 'Ter',\n",
    "                                    2: 'Qua',\n",
    "                                    3: 'Qui',\n",
    "                                    4: 'Sex',\n",
    "                                    5: 'Sab',\n",
    "                                    6: 'Dom'\n",
    "                            })\n",
    "    else:\n",
    "        df['weekday_str'] = df[date_column].dt.day_name().str[0:3]\n",
    "\n",
    "    return df"
   ]
  },
  {
   "cell_type": "code",
   "execution_count": 22,
   "metadata": {},
   "outputs": [
    {
     "data": {
      "text/html": [
       "<div>\n",
       "<style scoped>\n",
       "    .dataframe tbody tr th:only-of-type {\n",
       "        vertical-align: middle;\n",
       "    }\n",
       "\n",
       "    .dataframe tbody tr th {\n",
       "        vertical-align: top;\n",
       "    }\n",
       "\n",
       "    .dataframe thead th {\n",
       "        text-align: right;\n",
       "    }\n",
       "</style>\n",
       "<table border=\"1\" class=\"dataframe\">\n",
       "  <thead>\n",
       "    <tr style=\"text-align: right;\">\n",
       "      <th></th>\n",
       "      <th>account_id</th>\n",
       "      <th>date_ref</th>\n",
       "      <th>waiting_time</th>\n",
       "      <th>missed</th>\n",
       "      <th>pesq_satisfacao</th>\n",
       "      <th>assunto</th>\n",
       "      <th>waiting_timedelta</th>\n",
       "      <th>year</th>\n",
       "      <th>month</th>\n",
       "      <th>day</th>\n",
       "      <th>weekday</th>\n",
       "      <th>weekday_str</th>\n",
       "    </tr>\n",
       "  </thead>\n",
       "  <tbody>\n",
       "    <tr>\n",
       "      <th>0</th>\n",
       "      <td>0011L00002ZbpnlQAB</td>\n",
       "      <td>2020-02-23</td>\n",
       "      <td>19</td>\n",
       "      <td>False</td>\n",
       "      <td>Enviado</td>\n",
       "      <td>Produto:mPOS:Dúvidas mpos</td>\n",
       "      <td>00:00:19</td>\n",
       "      <td>2020</td>\n",
       "      <td>2</td>\n",
       "      <td>23</td>\n",
       "      <td>6</td>\n",
       "      <td>Dom</td>\n",
       "    </tr>\n",
       "    <tr>\n",
       "      <th>1</th>\n",
       "      <td>0011L00002dbBg5QAE</td>\n",
       "      <td>2020-02-25</td>\n",
       "      <td>15</td>\n",
       "      <td>False</td>\n",
       "      <td>Enviado</td>\n",
       "      <td>Aplicativo:Problema:</td>\n",
       "      <td>00:00:15</td>\n",
       "      <td>2020</td>\n",
       "      <td>2</td>\n",
       "      <td>25</td>\n",
       "      <td>1</td>\n",
       "      <td>Ter</td>\n",
       "    </tr>\n",
       "    <tr>\n",
       "      <th>2</th>\n",
       "      <td>0011L00002WdgbcQAB</td>\n",
       "      <td>2020-02-26</td>\n",
       "      <td>15</td>\n",
       "      <td>False</td>\n",
       "      <td>Enviado</td>\n",
       "      <td>Aplicativo:Dúvidas funcionalidades App:Redefin...</td>\n",
       "      <td>00:00:15</td>\n",
       "      <td>2020</td>\n",
       "      <td>2</td>\n",
       "      <td>26</td>\n",
       "      <td>2</td>\n",
       "      <td>Qua</td>\n",
       "    </tr>\n",
       "  </tbody>\n",
       "</table>\n",
       "</div>"
      ],
      "text/plain": [
       "           account_id   date_ref  waiting_time missed pesq_satisfacao  \\\n",
       "0  0011L00002ZbpnlQAB 2020-02-23            19  False         Enviado   \n",
       "1  0011L00002dbBg5QAE 2020-02-25            15  False         Enviado   \n",
       "2  0011L00002WdgbcQAB 2020-02-26            15  False         Enviado   \n",
       "\n",
       "                                             assunto waiting_timedelta  year  \\\n",
       "0                          Produto:mPOS:Dúvidas mpos          00:00:19  2020   \n",
       "1                               Aplicativo:Problema:          00:00:15  2020   \n",
       "2  Aplicativo:Dúvidas funcionalidades App:Redefin...          00:00:15  2020   \n",
       "\n",
       "   month  day  weekday weekday_str  \n",
       "0      2   23        6         Dom  \n",
       "1      2   25        1         Ter  \n",
       "2      2   26        2         Qua  "
      ]
     },
     "execution_count": 22,
     "metadata": {},
     "output_type": "execute_result"
    }
   ],
   "source": [
    "ccases = explode_date(ccases, 'date_ref', language_ptbr = True)\n",
    "ccases.head(3)"
   ]
  },
  {
   "cell_type": "markdown",
   "metadata": {},
   "source": [
    "#### Estrutundo dados em `assunto`"
   ]
  },
  {
   "cell_type": "code",
   "execution_count": 23,
   "metadata": {},
   "outputs": [],
   "source": [
    "# Separando os tópicos encadeados e guardando em uma lista\n",
    "ccases['assunto'] = ccases['assunto'].str.split(':')"
   ]
  },
  {
   "cell_type": "code",
   "execution_count": 24,
   "metadata": {},
   "outputs": [
    {
     "data": {
      "text/html": [
       "<div>\n",
       "<style scoped>\n",
       "    .dataframe tbody tr th:only-of-type {\n",
       "        vertical-align: middle;\n",
       "    }\n",
       "\n",
       "    .dataframe tbody tr th {\n",
       "        vertical-align: top;\n",
       "    }\n",
       "\n",
       "    .dataframe thead th {\n",
       "        text-align: right;\n",
       "    }\n",
       "</style>\n",
       "<table border=\"1\" class=\"dataframe\">\n",
       "  <thead>\n",
       "    <tr style=\"text-align: right;\">\n",
       "      <th></th>\n",
       "      <th>account_id</th>\n",
       "      <th>date_ref</th>\n",
       "      <th>waiting_time</th>\n",
       "      <th>missed</th>\n",
       "      <th>pesq_satisfacao</th>\n",
       "      <th>assunto</th>\n",
       "      <th>waiting_timedelta</th>\n",
       "      <th>year</th>\n",
       "      <th>month</th>\n",
       "      <th>day</th>\n",
       "      <th>weekday</th>\n",
       "      <th>weekday_str</th>\n",
       "      <th>node_1</th>\n",
       "      <th>node_2</th>\n",
       "      <th>node_3</th>\n",
       "    </tr>\n",
       "  </thead>\n",
       "  <tbody>\n",
       "    <tr>\n",
       "      <th>0</th>\n",
       "      <td>0011L00002ZbpnlQAB</td>\n",
       "      <td>2020-02-23</td>\n",
       "      <td>19</td>\n",
       "      <td>False</td>\n",
       "      <td>Enviado</td>\n",
       "      <td>[Produto, mPOS, Dúvidas mpos]</td>\n",
       "      <td>00:00:19</td>\n",
       "      <td>2020</td>\n",
       "      <td>2</td>\n",
       "      <td>23</td>\n",
       "      <td>6</td>\n",
       "      <td>Dom</td>\n",
       "      <td>Produto</td>\n",
       "      <td>mPOS</td>\n",
       "      <td>Dúvidas mpos</td>\n",
       "    </tr>\n",
       "    <tr>\n",
       "      <th>1</th>\n",
       "      <td>0011L00002dbBg5QAE</td>\n",
       "      <td>2020-02-25</td>\n",
       "      <td>15</td>\n",
       "      <td>False</td>\n",
       "      <td>Enviado</td>\n",
       "      <td>[Aplicativo, Problema, ]</td>\n",
       "      <td>00:00:15</td>\n",
       "      <td>2020</td>\n",
       "      <td>2</td>\n",
       "      <td>25</td>\n",
       "      <td>1</td>\n",
       "      <td>Ter</td>\n",
       "      <td>Aplicativo</td>\n",
       "      <td>Problema</td>\n",
       "      <td>NaN</td>\n",
       "    </tr>\n",
       "    <tr>\n",
       "      <th>2</th>\n",
       "      <td>0011L00002WdgbcQAB</td>\n",
       "      <td>2020-02-26</td>\n",
       "      <td>15</td>\n",
       "      <td>False</td>\n",
       "      <td>Enviado</td>\n",
       "      <td>[Aplicativo, Dúvidas funcionalidades App, Rede...</td>\n",
       "      <td>00:00:15</td>\n",
       "      <td>2020</td>\n",
       "      <td>2</td>\n",
       "      <td>26</td>\n",
       "      <td>2</td>\n",
       "      <td>Qua</td>\n",
       "      <td>Aplicativo</td>\n",
       "      <td>Dúvidas funcionalidades App</td>\n",
       "      <td>Redefinição de senha</td>\n",
       "    </tr>\n",
       "  </tbody>\n",
       "</table>\n",
       "</div>"
      ],
      "text/plain": [
       "           account_id   date_ref  waiting_time missed pesq_satisfacao  \\\n",
       "0  0011L00002ZbpnlQAB 2020-02-23            19  False         Enviado   \n",
       "1  0011L00002dbBg5QAE 2020-02-25            15  False         Enviado   \n",
       "2  0011L00002WdgbcQAB 2020-02-26            15  False         Enviado   \n",
       "\n",
       "                                             assunto waiting_timedelta  year  \\\n",
       "0                      [Produto, mPOS, Dúvidas mpos]          00:00:19  2020   \n",
       "1                           [Aplicativo, Problema, ]          00:00:15  2020   \n",
       "2  [Aplicativo, Dúvidas funcionalidades App, Rede...          00:00:15  2020   \n",
       "\n",
       "   month  day  weekday weekday_str      node_1                       node_2  \\\n",
       "0      2   23        6         Dom     Produto                         mPOS   \n",
       "1      2   25        1         Ter  Aplicativo                     Problema   \n",
       "2      2   26        2         Qua  Aplicativo  Dúvidas funcionalidades App   \n",
       "\n",
       "                 node_3  \n",
       "0          Dúvidas mpos  \n",
       "1                   NaN  \n",
       "2  Redefinição de senha  "
      ]
     },
     "execution_count": 24,
     "metadata": {},
     "output_type": "execute_result"
    }
   ],
   "source": [
    "# Criando colunas especificas para cada um dos tópicos\n",
    "ccases[['node_1','node_2', 'node_3']] = pd.DataFrame(ccases['assunto'].tolist(), index = ccases.index)\n",
    "\n",
    "# Preenchendo colunas nulas com NaNs\n",
    "ccases[['node_1', 'node_2', 'node_3']] = ccases[['node_1', 'node_2', 'node_3']].replace('', np.nan)\n",
    "ccases.head(3)"
   ]
  },
  {
   "cell_type": "markdown",
   "metadata": {},
   "source": [
    "### Limpeza do dataset `creds`."
   ]
  },
  {
   "cell_type": "code",
   "execution_count": 25,
   "metadata": {},
   "outputs": [
    {
     "data": {
      "text/html": [
       "<div>\n",
       "<style scoped>\n",
       "    .dataframe tbody tr th:only-of-type {\n",
       "        vertical-align: middle;\n",
       "    }\n",
       "\n",
       "    .dataframe tbody tr th {\n",
       "        vertical-align: top;\n",
       "    }\n",
       "\n",
       "    .dataframe thead th {\n",
       "        text-align: right;\n",
       "    }\n",
       "</style>\n",
       "<table border=\"1\" class=\"dataframe\">\n",
       "  <thead>\n",
       "    <tr style=\"text-align: right;\">\n",
       "      <th></th>\n",
       "      <th>Unnamed: 0</th>\n",
       "      <th>cred_date</th>\n",
       "      <th>shipping_address_city</th>\n",
       "      <th>shipping_address_state</th>\n",
       "      <th>max_machine</th>\n",
       "      <th>accountid</th>\n",
       "    </tr>\n",
       "  </thead>\n",
       "  <tbody>\n",
       "    <tr>\n",
       "      <th>0</th>\n",
       "      <td>0</td>\n",
       "      <td>2020-04-18</td>\n",
       "      <td>Feira de Santana</td>\n",
       "      <td>BA</td>\n",
       "      <td>T1</td>\n",
       "      <td>NaN</td>\n",
       "    </tr>\n",
       "    <tr>\n",
       "      <th>1</th>\n",
       "      <td>1</td>\n",
       "      <td>2020-10-16</td>\n",
       "      <td>Bacuri</td>\n",
       "      <td>MA</td>\n",
       "      <td>T1</td>\n",
       "      <td>NaN</td>\n",
       "    </tr>\n",
       "    <tr>\n",
       "      <th>2</th>\n",
       "      <td>2</td>\n",
       "      <td>2020-09-01</td>\n",
       "      <td>Bernardo Sayão</td>\n",
       "      <td>TO</td>\n",
       "      <td>T1</td>\n",
       "      <td>NaN</td>\n",
       "    </tr>\n",
       "  </tbody>\n",
       "</table>\n",
       "</div>"
      ],
      "text/plain": [
       "   Unnamed: 0   cred_date shipping_address_city shipping_address_state  \\\n",
       "0           0  2020-04-18      Feira de Santana                     BA   \n",
       "1           1  2020-10-16                Bacuri                     MA   \n",
       "2           2  2020-09-01        Bernardo Sayão                     TO   \n",
       "\n",
       "  max_machine accountid  \n",
       "0          T1       NaN  \n",
       "1          T1       NaN  \n",
       "2          T1       NaN  "
      ]
     },
     "execution_count": 25,
     "metadata": {},
     "output_type": "execute_result"
    }
   ],
   "source": [
    "creds.head(3)"
   ]
  },
  {
   "cell_type": "markdown",
   "metadata": {},
   "source": [
    "#### Renomeando colunas"
   ]
  },
  {
   "cell_type": "code",
   "execution_count": 26,
   "metadata": {},
   "outputs": [
    {
     "data": {
      "text/html": [
       "<div>\n",
       "<style scoped>\n",
       "    .dataframe tbody tr th:only-of-type {\n",
       "        vertical-align: middle;\n",
       "    }\n",
       "\n",
       "    .dataframe tbody tr th {\n",
       "        vertical-align: top;\n",
       "    }\n",
       "\n",
       "    .dataframe thead th {\n",
       "        text-align: right;\n",
       "    }\n",
       "</style>\n",
       "<table border=\"1\" class=\"dataframe\">\n",
       "  <thead>\n",
       "    <tr style=\"text-align: right;\">\n",
       "      <th></th>\n",
       "      <th>unnamed</th>\n",
       "      <th>cred_date</th>\n",
       "      <th>ship_city</th>\n",
       "      <th>ship_state</th>\n",
       "      <th>max_machine</th>\n",
       "      <th>account_id</th>\n",
       "    </tr>\n",
       "  </thead>\n",
       "  <tbody>\n",
       "    <tr>\n",
       "      <th>0</th>\n",
       "      <td>0</td>\n",
       "      <td>2020-04-18</td>\n",
       "      <td>Feira de Santana</td>\n",
       "      <td>BA</td>\n",
       "      <td>T1</td>\n",
       "      <td>NaN</td>\n",
       "    </tr>\n",
       "    <tr>\n",
       "      <th>1</th>\n",
       "      <td>1</td>\n",
       "      <td>2020-10-16</td>\n",
       "      <td>Bacuri</td>\n",
       "      <td>MA</td>\n",
       "      <td>T1</td>\n",
       "      <td>NaN</td>\n",
       "    </tr>\n",
       "    <tr>\n",
       "      <th>2</th>\n",
       "      <td>2</td>\n",
       "      <td>2020-09-01</td>\n",
       "      <td>Bernardo Sayão</td>\n",
       "      <td>TO</td>\n",
       "      <td>T1</td>\n",
       "      <td>NaN</td>\n",
       "    </tr>\n",
       "  </tbody>\n",
       "</table>\n",
       "</div>"
      ],
      "text/plain": [
       "   unnamed   cred_date         ship_city ship_state max_machine account_id\n",
       "0        0  2020-04-18  Feira de Santana         BA          T1        NaN\n",
       "1        1  2020-10-16            Bacuri         MA          T1        NaN\n",
       "2        2  2020-09-01    Bernardo Sayão         TO          T1        NaN"
      ]
     },
     "execution_count": 26,
     "metadata": {},
     "output_type": "execute_result"
    }
   ],
   "source": [
    "creds.columns = ['unnamed', 'cred_date', 'ship_city', 'ship_state', 'max_machine', 'account_id']\n",
    "creds.head(3)"
   ]
  },
  {
   "cell_type": "markdown",
   "metadata": {},
   "source": [
    "#### Dropando `unnamed`"
   ]
  },
  {
   "cell_type": "code",
   "execution_count": 27,
   "metadata": {},
   "outputs": [
    {
     "data": {
      "text/html": [
       "<div>\n",
       "<style scoped>\n",
       "    .dataframe tbody tr th:only-of-type {\n",
       "        vertical-align: middle;\n",
       "    }\n",
       "\n",
       "    .dataframe tbody tr th {\n",
       "        vertical-align: top;\n",
       "    }\n",
       "\n",
       "    .dataframe thead th {\n",
       "        text-align: right;\n",
       "    }\n",
       "</style>\n",
       "<table border=\"1\" class=\"dataframe\">\n",
       "  <thead>\n",
       "    <tr style=\"text-align: right;\">\n",
       "      <th></th>\n",
       "      <th>cred_date</th>\n",
       "      <th>ship_city</th>\n",
       "      <th>ship_state</th>\n",
       "      <th>max_machine</th>\n",
       "      <th>account_id</th>\n",
       "    </tr>\n",
       "  </thead>\n",
       "  <tbody>\n",
       "    <tr>\n",
       "      <th>0</th>\n",
       "      <td>2020-04-18</td>\n",
       "      <td>Feira de Santana</td>\n",
       "      <td>BA</td>\n",
       "      <td>T1</td>\n",
       "      <td>NaN</td>\n",
       "    </tr>\n",
       "    <tr>\n",
       "      <th>1</th>\n",
       "      <td>2020-10-16</td>\n",
       "      <td>Bacuri</td>\n",
       "      <td>MA</td>\n",
       "      <td>T1</td>\n",
       "      <td>NaN</td>\n",
       "    </tr>\n",
       "    <tr>\n",
       "      <th>2</th>\n",
       "      <td>2020-09-01</td>\n",
       "      <td>Bernardo Sayão</td>\n",
       "      <td>TO</td>\n",
       "      <td>T1</td>\n",
       "      <td>NaN</td>\n",
       "    </tr>\n",
       "  </tbody>\n",
       "</table>\n",
       "</div>"
      ],
      "text/plain": [
       "    cred_date         ship_city ship_state max_machine account_id\n",
       "0  2020-04-18  Feira de Santana         BA          T1        NaN\n",
       "1  2020-10-16            Bacuri         MA          T1        NaN\n",
       "2  2020-09-01    Bernardo Sayão         TO          T1        NaN"
      ]
     },
     "execution_count": 27,
     "metadata": {},
     "output_type": "execute_result"
    }
   ],
   "source": [
    "ccreds = creds.drop('unnamed', axis = 1)\n",
    "ccreds.head(3)"
   ]
  },
  {
   "cell_type": "markdown",
   "metadata": {},
   "source": [
    "#### Ordenando dataset a partir de `cred_date`"
   ]
  },
  {
   "cell_type": "code",
   "execution_count": 28,
   "metadata": {},
   "outputs": [],
   "source": [
    "ccreds = ccreds.sort_values(by = 'cred_date').reset_index(drop = True)"
   ]
  },
  {
   "cell_type": "markdown",
   "metadata": {},
   "source": [
    "#### Parseando `cred_date`"
   ]
  },
  {
   "cell_type": "code",
   "execution_count": 29,
   "metadata": {
    "scrolled": true
   },
   "outputs": [
    {
     "data": {
      "text/html": [
       "<div>\n",
       "<style scoped>\n",
       "    .dataframe tbody tr th:only-of-type {\n",
       "        vertical-align: middle;\n",
       "    }\n",
       "\n",
       "    .dataframe tbody tr th {\n",
       "        vertical-align: top;\n",
       "    }\n",
       "\n",
       "    .dataframe thead th {\n",
       "        text-align: right;\n",
       "    }\n",
       "</style>\n",
       "<table border=\"1\" class=\"dataframe\">\n",
       "  <thead>\n",
       "    <tr style=\"text-align: right;\">\n",
       "      <th></th>\n",
       "      <th>cred_date</th>\n",
       "      <th>ship_city</th>\n",
       "      <th>ship_state</th>\n",
       "      <th>max_machine</th>\n",
       "      <th>account_id</th>\n",
       "      <th>year</th>\n",
       "      <th>month</th>\n",
       "      <th>day</th>\n",
       "      <th>weekday</th>\n",
       "      <th>weekday_str</th>\n",
       "    </tr>\n",
       "  </thead>\n",
       "  <tbody>\n",
       "    <tr>\n",
       "      <th>0</th>\n",
       "      <td>2019-07-11</td>\n",
       "      <td>São Paulo</td>\n",
       "      <td>SP</td>\n",
       "      <td>NONE</td>\n",
       "      <td>NaN</td>\n",
       "      <td>2019</td>\n",
       "      <td>7</td>\n",
       "      <td>11</td>\n",
       "      <td>3</td>\n",
       "      <td>Qui</td>\n",
       "    </tr>\n",
       "    <tr>\n",
       "      <th>1</th>\n",
       "      <td>2019-07-23</td>\n",
       "      <td>Mogi das Cruzes</td>\n",
       "      <td>SP</td>\n",
       "      <td>NONE</td>\n",
       "      <td>NaN</td>\n",
       "      <td>2019</td>\n",
       "      <td>7</td>\n",
       "      <td>23</td>\n",
       "      <td>1</td>\n",
       "      <td>Ter</td>\n",
       "    </tr>\n",
       "    <tr>\n",
       "      <th>2</th>\n",
       "      <td>2019-07-23</td>\n",
       "      <td>São Luís</td>\n",
       "      <td>MA</td>\n",
       "      <td>NONE</td>\n",
       "      <td>NaN</td>\n",
       "      <td>2019</td>\n",
       "      <td>7</td>\n",
       "      <td>23</td>\n",
       "      <td>1</td>\n",
       "      <td>Ter</td>\n",
       "    </tr>\n",
       "  </tbody>\n",
       "</table>\n",
       "</div>"
      ],
      "text/plain": [
       "   cred_date        ship_city ship_state max_machine account_id  year  month  \\\n",
       "0 2019-07-11        São Paulo         SP        NONE        NaN  2019      7   \n",
       "1 2019-07-23  Mogi das Cruzes         SP        NONE        NaN  2019      7   \n",
       "2 2019-07-23         São Luís         MA        NONE        NaN  2019      7   \n",
       "\n",
       "   day  weekday weekday_str  \n",
       "0   11        3         Qui  \n",
       "1   23        1         Ter  \n",
       "2   23        1         Ter  "
      ]
     },
     "execution_count": 29,
     "metadata": {},
     "output_type": "execute_result"
    }
   ],
   "source": [
    "explode_date(ccreds, 'cred_date', language_ptbr = True)\n",
    "ccreds.head(3)"
   ]
  },
  {
   "cell_type": "markdown",
   "metadata": {},
   "source": [
    "#### Checando entradas duplicadas"
   ]
  },
  {
   "cell_type": "code",
   "execution_count": 30,
   "metadata": {},
   "outputs": [
    {
     "name": "stdout",
     "output_type": "stream",
     "text": [
      "60832         entradas devem ser removidas\n"
     ]
    }
   ],
   "source": [
    "print(f'{ccreds.duplicated().sum()} \\\n",
    "        entradas devem ser removidas') # Existem entradas duplicadas que \n",
    "                                       # precisam ser removidas"
   ]
  },
  {
   "cell_type": "code",
   "execution_count": 31,
   "metadata": {},
   "outputs": [
    {
     "data": {
      "text/html": [
       "<div>\n",
       "<style scoped>\n",
       "    .dataframe tbody tr th:only-of-type {\n",
       "        vertical-align: middle;\n",
       "    }\n",
       "\n",
       "    .dataframe tbody tr th {\n",
       "        vertical-align: top;\n",
       "    }\n",
       "\n",
       "    .dataframe thead th {\n",
       "        text-align: right;\n",
       "    }\n",
       "</style>\n",
       "<table border=\"1\" class=\"dataframe\">\n",
       "  <thead>\n",
       "    <tr style=\"text-align: right;\">\n",
       "      <th></th>\n",
       "      <th>unnamed</th>\n",
       "      <th>cred_date</th>\n",
       "      <th>ship_city</th>\n",
       "      <th>ship_state</th>\n",
       "      <th>max_machine</th>\n",
       "      <th>account_id</th>\n",
       "    </tr>\n",
       "  </thead>\n",
       "  <tbody>\n",
       "    <tr>\n",
       "      <th>0</th>\n",
       "      <td>0</td>\n",
       "      <td>2020-04-18</td>\n",
       "      <td>Feira de Santana</td>\n",
       "      <td>BA</td>\n",
       "      <td>T1</td>\n",
       "      <td>NaN</td>\n",
       "    </tr>\n",
       "    <tr>\n",
       "      <th>1</th>\n",
       "      <td>1</td>\n",
       "      <td>2020-10-16</td>\n",
       "      <td>Bacuri</td>\n",
       "      <td>MA</td>\n",
       "      <td>T1</td>\n",
       "      <td>NaN</td>\n",
       "    </tr>\n",
       "    <tr>\n",
       "      <th>2</th>\n",
       "      <td>2</td>\n",
       "      <td>2020-09-01</td>\n",
       "      <td>Bernardo Sayão</td>\n",
       "      <td>TO</td>\n",
       "      <td>T1</td>\n",
       "      <td>NaN</td>\n",
       "    </tr>\n",
       "  </tbody>\n",
       "</table>\n",
       "</div>"
      ],
      "text/plain": [
       "   unnamed   cred_date         ship_city ship_state max_machine account_id\n",
       "0        0  2020-04-18  Feira de Santana         BA          T1        NaN\n",
       "1        1  2020-10-16            Bacuri         MA          T1        NaN\n",
       "2        2  2020-09-01    Bernardo Sayão         TO          T1        NaN"
      ]
     },
     "execution_count": 31,
     "metadata": {},
     "output_type": "execute_result"
    }
   ],
   "source": [
    "# Removendo entradas duplicadas\n",
    "ccreds = ccreds.drop_duplicates()\n",
    "creds.head(3)"
   ]
  },
  {
   "cell_type": "markdown",
   "metadata": {},
   "source": [
    "Algumas entradas que não foram classificadas como duplicadas não possuem `account_id`.\n",
    "\n",
    "É uma situação interessante. Conforme o dicionário dos dados, esse é um dataset de clientes credenciados, que conta, inclusive, com data de credenciamento. Como vimos, muitos valores estavam duplicados. É possível, portanto, que existam mais linhas duplicadas, mas  essa informação, sem que se conheça o valor `account_id`, é mera especulação. E especulação e uma análise _data-driven_ são o exato oposto uma da outra...\n",
    "\n",
    "Em princícpio considerei que essas entradas pudessem representar um primeiro contato com a central de relacionamento, um _lead_. Mas a maioria das linhas possui uma máquina de pagamentos associada. Se há uma maquina associada, então, em meu entendimento limitado,, haveria de exister um `account_id`.\n",
    "\n",
    "Em uma situação ideal, gostaria de conversar com o dono deste dataset para poder entendê-la um pouco melhor e descobrir se é um erro de importação que apaga alguns valores de `account_id` ou erro de algum outro tipo.\n",
    "\n",
    "Por ora, vou salvar esses dados em um outro dataset, específico com entradas sem `account_id` e dropar essas linhas do dataset principal `ccred`."
   ]
  },
  {
   "cell_type": "markdown",
   "metadata": {},
   "source": [
    "#### Salvando entradas sem `account_id` em um novo dataset, `ccreds_naid`"
   ]
  },
  {
   "cell_type": "code",
   "execution_count": 32,
   "metadata": {},
   "outputs": [
    {
     "data": {
      "text/html": [
       "<div>\n",
       "<style scoped>\n",
       "    .dataframe tbody tr th:only-of-type {\n",
       "        vertical-align: middle;\n",
       "    }\n",
       "\n",
       "    .dataframe tbody tr th {\n",
       "        vertical-align: top;\n",
       "    }\n",
       "\n",
       "    .dataframe thead th {\n",
       "        text-align: right;\n",
       "    }\n",
       "</style>\n",
       "<table border=\"1\" class=\"dataframe\">\n",
       "  <thead>\n",
       "    <tr style=\"text-align: right;\">\n",
       "      <th></th>\n",
       "      <th>cred_date</th>\n",
       "      <th>ship_city</th>\n",
       "      <th>ship_state</th>\n",
       "      <th>max_machine</th>\n",
       "      <th>account_id</th>\n",
       "      <th>year</th>\n",
       "      <th>month</th>\n",
       "      <th>day</th>\n",
       "      <th>weekday</th>\n",
       "      <th>weekday_str</th>\n",
       "    </tr>\n",
       "  </thead>\n",
       "  <tbody>\n",
       "    <tr>\n",
       "      <th>0</th>\n",
       "      <td>2019-07-11</td>\n",
       "      <td>São Paulo</td>\n",
       "      <td>SP</td>\n",
       "      <td>NONE</td>\n",
       "      <td>NaN</td>\n",
       "      <td>2019</td>\n",
       "      <td>7</td>\n",
       "      <td>11</td>\n",
       "      <td>3</td>\n",
       "      <td>Qui</td>\n",
       "    </tr>\n",
       "    <tr>\n",
       "      <th>1</th>\n",
       "      <td>2019-07-23</td>\n",
       "      <td>Mogi das Cruzes</td>\n",
       "      <td>SP</td>\n",
       "      <td>NONE</td>\n",
       "      <td>NaN</td>\n",
       "      <td>2019</td>\n",
       "      <td>7</td>\n",
       "      <td>23</td>\n",
       "      <td>1</td>\n",
       "      <td>Ter</td>\n",
       "    </tr>\n",
       "    <tr>\n",
       "      <th>2</th>\n",
       "      <td>2019-07-23</td>\n",
       "      <td>São Luís</td>\n",
       "      <td>MA</td>\n",
       "      <td>NONE</td>\n",
       "      <td>NaN</td>\n",
       "      <td>2019</td>\n",
       "      <td>7</td>\n",
       "      <td>23</td>\n",
       "      <td>1</td>\n",
       "      <td>Ter</td>\n",
       "    </tr>\n",
       "    <tr>\n",
       "      <th>3</th>\n",
       "      <td>2019-07-23</td>\n",
       "      <td>Recife</td>\n",
       "      <td>PE</td>\n",
       "      <td>T1</td>\n",
       "      <td>NaN</td>\n",
       "      <td>2019</td>\n",
       "      <td>7</td>\n",
       "      <td>23</td>\n",
       "      <td>1</td>\n",
       "      <td>Ter</td>\n",
       "    </tr>\n",
       "    <tr>\n",
       "      <th>4</th>\n",
       "      <td>2019-07-23</td>\n",
       "      <td>Teresina</td>\n",
       "      <td>PI</td>\n",
       "      <td>NONE</td>\n",
       "      <td>NaN</td>\n",
       "      <td>2019</td>\n",
       "      <td>7</td>\n",
       "      <td>23</td>\n",
       "      <td>1</td>\n",
       "      <td>Ter</td>\n",
       "    </tr>\n",
       "  </tbody>\n",
       "</table>\n",
       "</div>"
      ],
      "text/plain": [
       "   cred_date        ship_city ship_state max_machine account_id  year  month  \\\n",
       "0 2019-07-11        São Paulo         SP        NONE        NaN  2019      7   \n",
       "1 2019-07-23  Mogi das Cruzes         SP        NONE        NaN  2019      7   \n",
       "2 2019-07-23         São Luís         MA        NONE        NaN  2019      7   \n",
       "3 2019-07-23           Recife         PE          T1        NaN  2019      7   \n",
       "4 2019-07-23         Teresina         PI        NONE        NaN  2019      7   \n",
       "\n",
       "   day  weekday weekday_str  \n",
       "0   11        3         Qui  \n",
       "1   23        1         Ter  \n",
       "2   23        1         Ter  \n",
       "3   23        1         Ter  \n",
       "4   23        1         Ter  "
      ]
     },
     "execution_count": 32,
     "metadata": {},
     "output_type": "execute_result"
    }
   ],
   "source": [
    "ccreds_naid = ccreds[ccreds['account_id'].isna()]\n",
    "ccreds_naid.head()"
   ]
  },
  {
   "cell_type": "code",
   "execution_count": 43,
   "metadata": {},
   "outputs": [
    {
     "data": {
      "text/plain": [
       "34728"
      ]
     },
     "execution_count": 43,
     "metadata": {},
     "output_type": "execute_result"
    }
   ],
   "source": [
    "ccreds_naid.shape[0] # Total de entradas sem account_id"
   ]
  },
  {
   "cell_type": "markdown",
   "metadata": {},
   "source": [
    "**Verificando entradas sem uma máquina de pagamento associada (`max_machine` = NONE)**"
   ]
  },
  {
   "cell_type": "code",
   "execution_count": 41,
   "metadata": {},
   "outputs": [
    {
     "data": {
      "text/plain": [
       "752"
      ]
     },
     "execution_count": 41,
     "metadata": {},
     "output_type": "execute_result"
    }
   ],
   "source": [
    "ccreds_naid[ccreds_naid['max_machine'] == 'NONE'].shape[0] # De 34.728 entradas sem registo de\n",
    "                                                           # account_id, apenas 752 não possuem\n",
    "                                                           # uma máquina associada"
   ]
  },
  {
   "cell_type": "markdown",
   "metadata": {},
   "source": [
    "#### Removendo nulos"
   ]
  },
  {
   "cell_type": "code",
   "execution_count": 34,
   "metadata": {},
   "outputs": [
    {
     "data": {
      "text/html": [
       "<div>\n",
       "<style scoped>\n",
       "    .dataframe tbody tr th:only-of-type {\n",
       "        vertical-align: middle;\n",
       "    }\n",
       "\n",
       "    .dataframe tbody tr th {\n",
       "        vertical-align: top;\n",
       "    }\n",
       "\n",
       "    .dataframe thead th {\n",
       "        text-align: right;\n",
       "    }\n",
       "</style>\n",
       "<table border=\"1\" class=\"dataframe\">\n",
       "  <thead>\n",
       "    <tr style=\"text-align: right;\">\n",
       "      <th></th>\n",
       "      <th>cred_date</th>\n",
       "      <th>ship_city</th>\n",
       "      <th>ship_state</th>\n",
       "      <th>max_machine</th>\n",
       "      <th>account_id</th>\n",
       "      <th>year</th>\n",
       "      <th>month</th>\n",
       "      <th>day</th>\n",
       "      <th>weekday</th>\n",
       "      <th>weekday_str</th>\n",
       "    </tr>\n",
       "  </thead>\n",
       "  <tbody>\n",
       "    <tr>\n",
       "      <th>10</th>\n",
       "      <td>2019-07-24</td>\n",
       "      <td>Curitiba</td>\n",
       "      <td>PR</td>\n",
       "      <td>T1</td>\n",
       "      <td>0011L00002WdC77QAF</td>\n",
       "      <td>2019</td>\n",
       "      <td>7</td>\n",
       "      <td>24</td>\n",
       "      <td>2</td>\n",
       "      <td>Qua</td>\n",
       "    </tr>\n",
       "    <tr>\n",
       "      <th>12</th>\n",
       "      <td>2019-07-24</td>\n",
       "      <td>Recife</td>\n",
       "      <td>PE</td>\n",
       "      <td>T1</td>\n",
       "      <td>0011L00002WdB4gQAF</td>\n",
       "      <td>2019</td>\n",
       "      <td>7</td>\n",
       "      <td>24</td>\n",
       "      <td>2</td>\n",
       "      <td>Qua</td>\n",
       "    </tr>\n",
       "    <tr>\n",
       "      <th>17</th>\n",
       "      <td>2019-07-24</td>\n",
       "      <td>Betim</td>\n",
       "      <td>MG</td>\n",
       "      <td>T1</td>\n",
       "      <td>0011L00002Wd777QAB</td>\n",
       "      <td>2019</td>\n",
       "      <td>7</td>\n",
       "      <td>24</td>\n",
       "      <td>2</td>\n",
       "      <td>Qua</td>\n",
       "    </tr>\n",
       "  </tbody>\n",
       "</table>\n",
       "</div>"
      ],
      "text/plain": [
       "    cred_date ship_city ship_state max_machine          account_id  year  \\\n",
       "10 2019-07-24  Curitiba         PR          T1  0011L00002WdC77QAF  2019   \n",
       "12 2019-07-24    Recife         PE          T1  0011L00002WdB4gQAF  2019   \n",
       "17 2019-07-24     Betim         MG          T1  0011L00002Wd777QAB  2019   \n",
       "\n",
       "    month  day  weekday weekday_str  \n",
       "10      7   24        2         Qua  \n",
       "12      7   24        2         Qua  \n",
       "17      7   24        2         Qua  "
      ]
     },
     "execution_count": 34,
     "metadata": {},
     "output_type": "execute_result"
    }
   ],
   "source": [
    "ccreds = ccreds.dropna(subset = ['account_id'])\n",
    "ccreds.head(3)"
   ]
  },
  {
   "cell_type": "code",
   "execution_count": 47,
   "metadata": {},
   "outputs": [
    {
     "data": {
      "text/plain": [
       "True"
      ]
     },
     "execution_count": 47,
     "metadata": {},
     "output_type": "execute_result"
    }
   ],
   "source": [
    "# Checando se todos os 'account_id's restantes do dataset possuem valores únicos \n",
    "ccreds.shape[0] == ccreds['account_id'].nunique()"
   ]
  },
  {
   "cell_type": "markdown",
   "metadata": {},
   "source": [
    "---"
   ]
  },
  {
   "cell_type": "markdown",
   "metadata": {},
   "source": [
    "### Exportando dados limpos"
   ]
  },
  {
   "cell_type": "code",
   "execution_count": 51,
   "metadata": {},
   "outputs": [],
   "source": [
    "ccases.to_csv('data/cases_cleaned.csv', index = False)\n",
    "ccreds.to_csv('data/creds_cleaned.csv', index = False)\n",
    "ccreds_naid.to_csv('data/creds_noids.csv', index = False)"
   ]
  },
  {
   "cell_type": "markdown",
   "metadata": {},
   "source": [
    "**O próximo passo é a análise dos dados propriamente dita.**\n",
    "\n",
    "Para melhor organização, será realizada em um novo Notebook."
   ]
  },
  {
   "cell_type": "code",
   "execution_count": 50,
   "metadata": {},
   "outputs": [
    {
     "name": "stdout",
     "output_type": "stream",
     "text": [
      "<class 'pandas.core.frame.DataFrame'>\n",
      "RangeIndex: 77489 entries, 0 to 77488\n",
      "Data columns (total 15 columns):\n",
      "account_id           77489 non-null object\n",
      "date_ref             77489 non-null datetime64[ns]\n",
      "waiting_time         77489 non-null int64\n",
      "missed               77489 non-null object\n",
      "pesq_satisfacao      11585 non-null object\n",
      "assunto              77489 non-null object\n",
      "waiting_timedelta    77489 non-null timedelta64[ns]\n",
      "year                 77489 non-null int64\n",
      "month                77489 non-null int64\n",
      "day                  77489 non-null int64\n",
      "weekday              77489 non-null int64\n",
      "weekday_str          77489 non-null object\n",
      "node_1               77383 non-null object\n",
      "node_2               75770 non-null object\n",
      "node_3               65564 non-null object\n",
      "dtypes: datetime64[ns](1), int64(5), object(8), timedelta64[ns](1)\n",
      "memory usage: 8.9+ MB\n"
     ]
    }
   ],
   "source": [
    "ccases.info()"
   ]
  },
  {
   "cell_type": "markdown",
   "metadata": {},
   "source": [
    "# TO INCLUDE IN THE ANALYSIS"
   ]
  },
  {
   "cell_type": "code",
   "execution_count": 35,
   "metadata": {},
   "outputs": [],
   "source": [
    "# # Contando quantidade de tópicos por node\n",
    "# print('Qtd. tópicos no node_1:  ', ccases['node_1'].nunique(dropna = False))\n",
    "# print('Qtd. tópicos no node_2:  ', ccases['node_2'].nunique(dropna = False))\n",
    "# print('Qtd. tópicos no node_3: ', ccases['node_3'].nunique(dropna = False), '\\n')\n",
    "\n",
    "# print('Qtd. valores faltantes no node_1:   ', ccases['node_1'].isna().sum(), '<-- What are those?')\n",
    "# print('Qtd. valores faltantes no node_2:  ', ccases['node_2'].isna().sum())\n",
    "# print('Qtd. valores faltantes no node_3: ', ccases['node_3'].isna().sum())\n",
    "\n",
    "# # Transformando tópicos em sets para avaliar se são subsets uns dos outros\n",
    "# topics_node_1 = set(ccases['node_1'].value_counts(dropna = False).index.tolist())\n",
    "# topics_node_2 = set(ccases['node_2'].value_counts(dropna = False).index.tolist())\n",
    "# topics_node_3 = set(ccases['node_3'].value_counts(dropna = False).index.tolist())"
   ]
  },
  {
   "cell_type": "code",
   "execution_count": 36,
   "metadata": {},
   "outputs": [],
   "source": [
    "# # Checando se sets são subsets uns dos outros\n",
    "# topics_node_2.issubset(topics_node_1), \\\n",
    "# topics_node_3.issubset(topics_node_2), \\\n",
    "# topics_node_3.issubset(topics_node_1)   "
   ]
  },
  {
   "cell_type": "code",
   "execution_count": 37,
   "metadata": {},
   "outputs": [],
   "source": [
    "# ccases[ccases['node_1'].isna()].head(10)"
   ]
  }
 ],
 "metadata": {
  "kernelspec": {
   "display_name": "Python 3",
   "language": "python",
   "name": "python3"
  },
  "language_info": {
   "codemirror_mode": {
    "name": "ipython",
    "version": 3
   },
   "file_extension": ".py",
   "mimetype": "text/x-python",
   "name": "python",
   "nbconvert_exporter": "python",
   "pygments_lexer": "ipython3",
   "version": "3.7.7"
  },
  "toc": {
   "base_numbering": 1,
   "nav_menu": {},
   "number_sections": true,
   "sideBar": true,
   "skip_h1_title": false,
   "title_cell": "Table of Contents",
   "title_sidebar": "Contents",
   "toc_cell": false,
   "toc_position": {
    "height": "calc(100% - 180px)",
    "left": "10px",
    "top": "150px",
    "width": "295.014px"
   },
   "toc_section_display": true,
   "toc_window_display": true
  },
  "varInspector": {
   "cols": {
    "lenName": 16,
    "lenType": 16,
    "lenVar": 40
   },
   "kernels_config": {
    "python": {
     "delete_cmd_postfix": "",
     "delete_cmd_prefix": "del ",
     "library": "var_list.py",
     "varRefreshCmd": "print(var_dic_list())"
    },
    "r": {
     "delete_cmd_postfix": ") ",
     "delete_cmd_prefix": "rm(",
     "library": "var_list.r",
     "varRefreshCmd": "cat(var_dic_list()) "
    }
   },
   "types_to_exclude": [
    "module",
    "function",
    "builtin_function_or_method",
    "instance",
    "_Feature"
   ],
   "window_display": false
  }
 },
 "nbformat": 4,
 "nbformat_minor": 4
}
