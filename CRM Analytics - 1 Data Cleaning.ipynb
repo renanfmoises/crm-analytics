{
 "cells": [
  {
   "cell_type": "markdown",
   "metadata": {},
   "source": [
    "# **CRM Analytics - Data Cleaning**"
   ]
  },
  {
   "cell_type": "markdown",
   "metadata": {},
   "source": [
    "**Impoting libraries and modules**"
   ]
  },
  {
   "cell_type": "code",
   "execution_count": 1,
   "metadata": {},
   "outputs": [],
   "source": [
    "# Main libraries\n",
    "import pandas as pd\n",
    "import numpy as np\n",
    "import matplotlib.pyplot as plt\n",
    "import seaborn as sns\n",
    "import datetime\n",
    "\n",
    "# Dealing with warnings\n",
    "import warnings\n",
    "warnings.filterwarnings('ignore')\n",
    "\n",
    "# Setting up DataFrame settings\n",
    "pd.set_option('display.max_columns', 50)"
   ]
  },
  {
   "cell_type": "markdown",
   "metadata": {},
   "source": [
    "## Data Cleaning"
   ]
  },
  {
   "cell_type": "markdown",
   "metadata": {},
   "source": [
    "**Importing CSV files into Jupyter Notebook**"
   ]
  },
  {
   "cell_type": "code",
   "execution_count": 6,
   "metadata": {},
   "outputs": [],
   "source": [
    "cases = pd.read_csv('data/cases.csv', date_parser = ['date_ref']) # Cases\n",
    "creds = pd.read_csv('data/creds.csv', date_parser = ['cred_date']) # Credenciamentos (registration)"
   ]
  },
  {
   "cell_type": "markdown",
   "metadata": {},
   "source": [
    "### Cleaning `cases` dataset"
   ]
  },
  {
   "cell_type": "code",
   "execution_count": 7,
   "metadata": {},
   "outputs": [
    {
     "data": {
      "text/html": [
       "<div>\n",
       "<style scoped>\n",
       "    .dataframe tbody tr th:only-of-type {\n",
       "        vertical-align: middle;\n",
       "    }\n",
       "\n",
       "    .dataframe tbody tr th {\n",
       "        vertical-align: top;\n",
       "    }\n",
       "\n",
       "    .dataframe thead th {\n",
       "        text-align: right;\n",
       "    }\n",
       "</style>\n",
       "<table border=\"1\" class=\"dataframe\">\n",
       "  <thead>\n",
       "    <tr style=\"text-align: right;\">\n",
       "      <th></th>\n",
       "      <th>Unnamed: 0</th>\n",
       "      <th>accountid</th>\n",
       "      <th>date_ref</th>\n",
       "      <th>channelid</th>\n",
       "      <th>waitingtime</th>\n",
       "      <th>missed</th>\n",
       "      <th>pesquisa_de_satisfa_o__c</th>\n",
       "      <th>assunto</th>\n",
       "      <th>Id</th>\n",
       "    </tr>\n",
       "  </thead>\n",
       "  <tbody>\n",
       "    <tr>\n",
       "      <th>0</th>\n",
       "      <td>0</td>\n",
       "      <td>NaN</td>\n",
       "      <td>NaN</td>\n",
       "      <td>NaN</td>\n",
       "      <td>NaN</td>\n",
       "      <td>NaN</td>\n",
       "      <td>NaN</td>\n",
       "      <td>NaN</td>\n",
       "      <td>NaN</td>\n",
       "    </tr>\n",
       "    <tr>\n",
       "      <th>1</th>\n",
       "      <td>1</td>\n",
       "      <td>NaN</td>\n",
       "      <td>NaN</td>\n",
       "      <td>NaN</td>\n",
       "      <td>NaN</td>\n",
       "      <td>NaN</td>\n",
       "      <td>NaN</td>\n",
       "      <td>NaN</td>\n",
       "      <td>NaN</td>\n",
       "    </tr>\n",
       "    <tr>\n",
       "      <th>2</th>\n",
       "      <td>2</td>\n",
       "      <td>NaN</td>\n",
       "      <td>NaN</td>\n",
       "      <td>NaN</td>\n",
       "      <td>NaN</td>\n",
       "      <td>NaN</td>\n",
       "      <td>NaN</td>\n",
       "      <td>NaN</td>\n",
       "      <td>NaN</td>\n",
       "    </tr>\n",
       "    <tr>\n",
       "      <th>3</th>\n",
       "      <td>3</td>\n",
       "      <td>NaN</td>\n",
       "      <td>NaN</td>\n",
       "      <td>NaN</td>\n",
       "      <td>NaN</td>\n",
       "      <td>NaN</td>\n",
       "      <td>NaN</td>\n",
       "      <td>NaN</td>\n",
       "      <td>NaN</td>\n",
       "    </tr>\n",
       "    <tr>\n",
       "      <th>4</th>\n",
       "      <td>4</td>\n",
       "      <td>0013j00002z0CeEAAU</td>\n",
       "      <td>2020-07-31</td>\n",
       "      <td>2.0</td>\n",
       "      <td>15.0</td>\n",
       "      <td>False</td>\n",
       "      <td>NaN</td>\n",
       "      <td>Aplicativo:Dúvidas funcionalidades App:Primeir...</td>\n",
       "      <td>0013j00002z0CeEAAU</td>\n",
       "    </tr>\n",
       "  </tbody>\n",
       "</table>\n",
       "</div>"
      ],
      "text/plain": [
       "   Unnamed: 0           accountid    date_ref  channelid  waitingtime missed  \\\n",
       "0           0                 NaN         NaN        NaN          NaN    NaN   \n",
       "1           1                 NaN         NaN        NaN          NaN    NaN   \n",
       "2           2                 NaN         NaN        NaN          NaN    NaN   \n",
       "3           3                 NaN         NaN        NaN          NaN    NaN   \n",
       "4           4  0013j00002z0CeEAAU  2020-07-31        2.0         15.0  False   \n",
       "\n",
       "  pesquisa_de_satisfa_o__c                                            assunto  \\\n",
       "0                      NaN                                                NaN   \n",
       "1                      NaN                                                NaN   \n",
       "2                      NaN                                                NaN   \n",
       "3                      NaN                                                NaN   \n",
       "4                      NaN  Aplicativo:Dúvidas funcionalidades App:Primeir...   \n",
       "\n",
       "                   Id  \n",
       "0                 NaN  \n",
       "1                 NaN  \n",
       "2                 NaN  \n",
       "3                 NaN  \n",
       "4  0013j00002z0CeEAAU  "
      ]
     },
     "execution_count": 7,
     "metadata": {},
     "output_type": "execute_result"
    }
   ],
   "source": [
    "cases.head(5)"
   ]
  },
  {
   "cell_type": "markdown",
   "metadata": {},
   "source": [
    "**The `cases` dataset is not in the best format for our analysis.**\n",
    "\n",
    "To clean the data, the following steps will be necessary:\n",
    "\n",
    "1. Drop column `Unnamed: 0`;\n",
    "2. Rename columns to facilitate the handling of the dataset;\n",
    "3. Remove entries where all values are null;\n",
    "4. Parse the `date_ref` column for into datetime format;\n",
    "5. Organize entries by `data_ref`, in ascending order;\n",
    "6. Check if the `accountid` (PK) and` Id` columns are redundant and, if so, eliminate `Id`;\n",
    "7. Study values in `channelid` and` wairingtime`, and, if necessary, transform them into `int`;\n",
    "8. Check for duplicate entries and, if so, remove redundancies;\n",
    "9. Study the `subject` column and understand the best way to store information in a structured way and apply it;"
   ]
  },
  {
   "cell_type": "markdown",
   "metadata": {},
   "source": [
    "#### Renaming columns"
   ]
  },
  {
   "cell_type": "code",
   "execution_count": 9,
   "metadata": {},
   "outputs": [
    {
     "data": {
      "text/html": [
       "<div>\n",
       "<style scoped>\n",
       "    .dataframe tbody tr th:only-of-type {\n",
       "        vertical-align: middle;\n",
       "    }\n",
       "\n",
       "    .dataframe tbody tr th {\n",
       "        vertical-align: top;\n",
       "    }\n",
       "\n",
       "    .dataframe thead th {\n",
       "        text-align: right;\n",
       "    }\n",
       "</style>\n",
       "<table border=\"1\" class=\"dataframe\">\n",
       "  <thead>\n",
       "    <tr style=\"text-align: right;\">\n",
       "      <th></th>\n",
       "      <th>unnamed</th>\n",
       "      <th>account_id</th>\n",
       "      <th>date_ref</th>\n",
       "      <th>channel_id</th>\n",
       "      <th>waiting_time</th>\n",
       "      <th>missed</th>\n",
       "      <th>pesq_satisfacao</th>\n",
       "      <th>assunto</th>\n",
       "      <th>id</th>\n",
       "    </tr>\n",
       "  </thead>\n",
       "  <tbody>\n",
       "    <tr>\n",
       "      <th>0</th>\n",
       "      <td>0</td>\n",
       "      <td>NaN</td>\n",
       "      <td>NaN</td>\n",
       "      <td>NaN</td>\n",
       "      <td>NaN</td>\n",
       "      <td>NaN</td>\n",
       "      <td>NaN</td>\n",
       "      <td>NaN</td>\n",
       "      <td>NaN</td>\n",
       "    </tr>\n",
       "    <tr>\n",
       "      <th>1</th>\n",
       "      <td>1</td>\n",
       "      <td>NaN</td>\n",
       "      <td>NaN</td>\n",
       "      <td>NaN</td>\n",
       "      <td>NaN</td>\n",
       "      <td>NaN</td>\n",
       "      <td>NaN</td>\n",
       "      <td>NaN</td>\n",
       "      <td>NaN</td>\n",
       "    </tr>\n",
       "    <tr>\n",
       "      <th>2</th>\n",
       "      <td>2</td>\n",
       "      <td>NaN</td>\n",
       "      <td>NaN</td>\n",
       "      <td>NaN</td>\n",
       "      <td>NaN</td>\n",
       "      <td>NaN</td>\n",
       "      <td>NaN</td>\n",
       "      <td>NaN</td>\n",
       "      <td>NaN</td>\n",
       "    </tr>\n",
       "  </tbody>\n",
       "</table>\n",
       "</div>"
      ],
      "text/plain": [
       "   unnamed account_id date_ref  channel_id  waiting_time missed  \\\n",
       "0        0        NaN      NaN         NaN           NaN    NaN   \n",
       "1        1        NaN      NaN         NaN           NaN    NaN   \n",
       "2        2        NaN      NaN         NaN           NaN    NaN   \n",
       "\n",
       "  pesq_satisfacao assunto   id  \n",
       "0             NaN     NaN  NaN  \n",
       "1             NaN     NaN  NaN  \n",
       "2             NaN     NaN  NaN  "
      ]
     },
     "execution_count": 9,
     "metadata": {},
     "output_type": "execute_result"
    }
   ],
   "source": [
    "cases.columns = ['unnamed',\n",
    "                 'account_id', \n",
    "                 'date_ref',\n",
    "                 'channel_id',\n",
    "                 'waiting_time',\n",
    "                 'missed', \n",
    "                 'pesq_satisfacao', \n",
    "                 'assunto', \n",
    "                 'id']\n",
    "\n",
    "cases.head(3)"
   ]
  },
  {
   "cell_type": "markdown",
   "metadata": {},
   "source": [
    "#### Dropping`unnamed`"
   ]
  },
  {
   "cell_type": "code",
   "execution_count": 10,
   "metadata": {},
   "outputs": [],
   "source": [
    "# Drop \"Unnamed: 0\"\n",
    "cases.duplicated('unnamed').sum() # Checking duplicates in dataset index\n",
    "cases = cases.drop('unnamed', axis = 1)"
   ]
  },
  {
   "cell_type": "markdown",
   "metadata": {},
   "source": [
    "#### Removing null values\n",
    "\n",
    "Removing entries where _all_ values are nulls:"
   ]
  },
  {
   "cell_type": "code",
   "execution_count": 11,
   "metadata": {},
   "outputs": [
    {
     "data": {
      "text/plain": [
       "49500"
      ]
     },
     "execution_count": 11,
     "metadata": {},
     "output_type": "execute_result"
    }
   ],
   "source": [
    "cases['account_id'].isna().sum() # PK Cases missing"
   ]
  },
  {
   "cell_type": "code",
   "execution_count": 12,
   "metadata": {},
   "outputs": [
    {
     "name": "stdout",
     "output_type": "stream",
     "text": [
      "Qtd entradas dataset original:         126989 \n",
      "Qtd entradas dataset sem NaNs:          77489 \n",
      "Qtd entradas descartadas após dropna:   49500\n"
     ]
    }
   ],
   "source": [
    "# Removing null values\n",
    "ccases = cases.dropna(how = 'all', axis = 0) # ccases = cleaned cases\n",
    "ccases.shape\n",
    "\n",
    "# Reporting changes\n",
    "print(\"Qtd entradas dataset original:        \", len(cases), \n",
    "      \"\\nQtd entradas dataset sem NaNs:         \", len(ccases), \n",
    "      \"\\nQtd entradas descartadas após dropna:  \", (len(cases)-len(ccases)))"
   ]
  },
  {
   "cell_type": "code",
   "execution_count": 13,
   "metadata": {},
   "outputs": [
    {
     "data": {
      "text/plain": [
       "account_id             0\n",
       "date_ref               0\n",
       "channel_id             0\n",
       "waiting_time           0\n",
       "missed                 0\n",
       "pesq_satisfacao    65904\n",
       "assunto                0\n",
       "id                     0\n",
       "dtype: int64"
      ]
     },
     "execution_count": 13,
     "metadata": {},
     "output_type": "execute_result"
    }
   ],
   "source": [
    "# Checking remaining nulls\n",
    "ccases.isna().sum()"
   ]
  },
  {
   "cell_type": "markdown",
   "metadata": {},
   "source": [
    "#### Investigating `account_id`\n",
    "\n",
    "**Question: does `account_id` meet the requirements to be the dataset's Primary Key?**\n",
    "\n",
    "According to the dictionary, `account_id` should be the table's primary key (PK), to meet this requirement, it must be unique in each of the entries.\n",
    "\n",
    "However, it seems reasonable to think that in the timespan of the dataset, the same customer (each with a unique account id, may have made several calls in the Customer Relationship center (CR).\n",
    "\n",
    "Let's check:"
   ]
  },
  {
   "cell_type": "code",
   "execution_count": 14,
   "metadata": {
    "scrolled": true
   },
   "outputs": [
    {
     "data": {
      "text/plain": [
       "True     95559\n",
       "False    31430\n",
       "dtype: int64"
      ]
     },
     "execution_count": 14,
     "metadata": {},
     "output_type": "execute_result"
    }
   ],
   "source": [
    "# Checking 'account_id' duplicates\n",
    "cases.duplicated('account_id').value_counts()"
   ]
  },
  {
   "cell_type": "code",
   "execution_count": 15,
   "metadata": {
    "scrolled": false
   },
   "outputs": [
    {
     "data": {
      "text/html": [
       "<div>\n",
       "<style scoped>\n",
       "    .dataframe tbody tr th:only-of-type {\n",
       "        vertical-align: middle;\n",
       "    }\n",
       "\n",
       "    .dataframe tbody tr th {\n",
       "        vertical-align: top;\n",
       "    }\n",
       "\n",
       "    .dataframe thead th {\n",
       "        text-align: right;\n",
       "    }\n",
       "</style>\n",
       "<table border=\"1\" class=\"dataframe\">\n",
       "  <thead>\n",
       "    <tr style=\"text-align: right;\">\n",
       "      <th></th>\n",
       "      <th>account_id</th>\n",
       "      <th>date_ref</th>\n",
       "      <th>channel_id</th>\n",
       "      <th>waiting_time</th>\n",
       "      <th>missed</th>\n",
       "      <th>pesq_satisfacao</th>\n",
       "      <th>assunto</th>\n",
       "      <th>id</th>\n",
       "    </tr>\n",
       "  </thead>\n",
       "  <tbody>\n",
       "    <tr>\n",
       "      <th>1</th>\n",
       "      <td>NaN</td>\n",
       "      <td>NaN</td>\n",
       "      <td>NaN</td>\n",
       "      <td>NaN</td>\n",
       "      <td>NaN</td>\n",
       "      <td>NaN</td>\n",
       "      <td>NaN</td>\n",
       "      <td>NaN</td>\n",
       "    </tr>\n",
       "    <tr>\n",
       "      <th>2</th>\n",
       "      <td>NaN</td>\n",
       "      <td>NaN</td>\n",
       "      <td>NaN</td>\n",
       "      <td>NaN</td>\n",
       "      <td>NaN</td>\n",
       "      <td>NaN</td>\n",
       "      <td>NaN</td>\n",
       "      <td>NaN</td>\n",
       "    </tr>\n",
       "    <tr>\n",
       "      <th>3</th>\n",
       "      <td>NaN</td>\n",
       "      <td>NaN</td>\n",
       "      <td>NaN</td>\n",
       "      <td>NaN</td>\n",
       "      <td>NaN</td>\n",
       "      <td>NaN</td>\n",
       "      <td>NaN</td>\n",
       "      <td>NaN</td>\n",
       "    </tr>\n",
       "    <tr>\n",
       "      <th>5</th>\n",
       "      <td>0013j00002z0CeEAAU</td>\n",
       "      <td>2020-07-31</td>\n",
       "      <td>2.0</td>\n",
       "      <td>15.0</td>\n",
       "      <td>False</td>\n",
       "      <td>NaN</td>\n",
       "      <td>Produto:S920:Ativação</td>\n",
       "      <td>0013j00002z0CeEAAU</td>\n",
       "    </tr>\n",
       "    <tr>\n",
       "      <th>6</th>\n",
       "      <td>0013j00002z0CeEAAU</td>\n",
       "      <td>2020-09-23</td>\n",
       "      <td>2.0</td>\n",
       "      <td>1.0</td>\n",
       "      <td>False</td>\n",
       "      <td>NaN</td>\n",
       "      <td>Produto:Cartão pré-pago:Dúvidas</td>\n",
       "      <td>0013j00002z0CeEAAU</td>\n",
       "    </tr>\n",
       "    <tr>\n",
       "      <th>...</th>\n",
       "      <td>...</td>\n",
       "      <td>...</td>\n",
       "      <td>...</td>\n",
       "      <td>...</td>\n",
       "      <td>...</td>\n",
       "      <td>...</td>\n",
       "      <td>...</td>\n",
       "      <td>...</td>\n",
       "    </tr>\n",
       "    <tr>\n",
       "      <th>126984</th>\n",
       "      <td>0013j00002yi49FAAQ</td>\n",
       "      <td>2020-08-26</td>\n",
       "      <td>2.0</td>\n",
       "      <td>9.0</td>\n",
       "      <td>False</td>\n",
       "      <td>NaN</td>\n",
       "      <td>Aplicativo:Dúvidas funcionalidades App:Prazos ...</td>\n",
       "      <td>0013j00002yi49FAAQ</td>\n",
       "    </tr>\n",
       "    <tr>\n",
       "      <th>126985</th>\n",
       "      <td>0013j00002yi49FAAQ</td>\n",
       "      <td>2020-09-09</td>\n",
       "      <td>2.0</td>\n",
       "      <td>4.0</td>\n",
       "      <td>False</td>\n",
       "      <td>NaN</td>\n",
       "      <td>Produto:D195:Ativação</td>\n",
       "      <td>0013j00002yi49FAAQ</td>\n",
       "    </tr>\n",
       "    <tr>\n",
       "      <th>126986</th>\n",
       "      <td>0013j00002yi49FAAQ</td>\n",
       "      <td>2020-09-21</td>\n",
       "      <td>2.0</td>\n",
       "      <td>3.0</td>\n",
       "      <td>False</td>\n",
       "      <td>NaN</td>\n",
       "      <td>Cadastro:Recredenciamento:Dúvidas</td>\n",
       "      <td>0013j00002yi49FAAQ</td>\n",
       "    </tr>\n",
       "    <tr>\n",
       "      <th>126987</th>\n",
       "      <td>0013j00002yi49FAAQ</td>\n",
       "      <td>2020-09-21</td>\n",
       "      <td>2.0</td>\n",
       "      <td>3.0</td>\n",
       "      <td>False</td>\n",
       "      <td>NaN</td>\n",
       "      <td>Produto:Cartão pré-pago:Dúvidas</td>\n",
       "      <td>0013j00002yi49FAAQ</td>\n",
       "    </tr>\n",
       "    <tr>\n",
       "      <th>126988</th>\n",
       "      <td>0013j00002yi49FAAQ</td>\n",
       "      <td>2020-09-29</td>\n",
       "      <td>2.0</td>\n",
       "      <td>3.0</td>\n",
       "      <td>False</td>\n",
       "      <td>NaN</td>\n",
       "      <td>Logística:Gestão de equipamentos:</td>\n",
       "      <td>0013j00002yi49FAAQ</td>\n",
       "    </tr>\n",
       "  </tbody>\n",
       "</table>\n",
       "<p>95559 rows × 8 columns</p>\n",
       "</div>"
      ],
      "text/plain": [
       "                account_id    date_ref  channel_id  waiting_time missed  \\\n",
       "1                      NaN         NaN         NaN           NaN    NaN   \n",
       "2                      NaN         NaN         NaN           NaN    NaN   \n",
       "3                      NaN         NaN         NaN           NaN    NaN   \n",
       "5       0013j00002z0CeEAAU  2020-07-31         2.0          15.0  False   \n",
       "6       0013j00002z0CeEAAU  2020-09-23         2.0           1.0  False   \n",
       "...                    ...         ...         ...           ...    ...   \n",
       "126984  0013j00002yi49FAAQ  2020-08-26         2.0           9.0  False   \n",
       "126985  0013j00002yi49FAAQ  2020-09-09         2.0           4.0  False   \n",
       "126986  0013j00002yi49FAAQ  2020-09-21         2.0           3.0  False   \n",
       "126987  0013j00002yi49FAAQ  2020-09-21         2.0           3.0  False   \n",
       "126988  0013j00002yi49FAAQ  2020-09-29         2.0           3.0  False   \n",
       "\n",
       "       pesq_satisfacao                                            assunto  \\\n",
       "1                  NaN                                                NaN   \n",
       "2                  NaN                                                NaN   \n",
       "3                  NaN                                                NaN   \n",
       "5                  NaN                              Produto:S920:Ativação   \n",
       "6                  NaN                    Produto:Cartão pré-pago:Dúvidas   \n",
       "...                ...                                                ...   \n",
       "126984             NaN  Aplicativo:Dúvidas funcionalidades App:Prazos ...   \n",
       "126985             NaN                              Produto:D195:Ativação   \n",
       "126986             NaN                  Cadastro:Recredenciamento:Dúvidas   \n",
       "126987             NaN                    Produto:Cartão pré-pago:Dúvidas   \n",
       "126988             NaN                  Logística:Gestão de equipamentos:   \n",
       "\n",
       "                        id  \n",
       "1                      NaN  \n",
       "2                      NaN  \n",
       "3                      NaN  \n",
       "5       0013j00002z0CeEAAU  \n",
       "6       0013j00002z0CeEAAU  \n",
       "...                    ...  \n",
       "126984  0013j00002yi49FAAQ  \n",
       "126985  0013j00002yi49FAAQ  \n",
       "126986  0013j00002yi49FAAQ  \n",
       "126987  0013j00002yi49FAAQ  \n",
       "126988  0013j00002yi49FAAQ  \n",
       "\n",
       "[95559 rows x 8 columns]"
      ]
     },
     "execution_count": 15,
     "metadata": {},
     "output_type": "execute_result"
    }
   ],
   "source": [
    "cases[cases.duplicated('account_id')]"
   ]
  },
  {
   "cell_type": "markdown",
   "metadata": {},
   "source": [
    "**31,430 _False_ values** indicates that, as previously thought, several accounts have called the CR more than once. Therefore, this cannot be the table's primary key.\n",
    "\n",
    "As there is no other one that can occupy this position, we will keep the index of the dataset as PK, where each line represents a call to the company."
   ]
  },
  {
   "cell_type": "markdown",
   "metadata": {},
   "source": [
    "#### Ordering dataset by  `date_ref`"
   ]
  },
  {
   "cell_type": "code",
   "execution_count": 16,
   "metadata": {},
   "outputs": [],
   "source": [
    "# Ordering dataset\n",
    "ccases = ccases.sort_values('date_ref')"
   ]
  },
  {
   "cell_type": "markdown",
   "metadata": {},
   "source": [
    "#### Checking redundancy\n",
    "Checking if the information in the `account_id` and `id` columns is the same."
   ]
  },
  {
   "cell_type": "code",
   "execution_count": 17,
   "metadata": {},
   "outputs": [
    {
     "data": {
      "text/plain": [
       "0"
      ]
     },
     "execution_count": 17,
     "metadata": {},
     "output_type": "execute_result"
    }
   ],
   "source": [
    "# Checking if there are different values in account_id and id\n",
    "(ccases['account_id'] != ccases['id']).sum()"
   ]
  },
  {
   "cell_type": "code",
   "execution_count": 18,
   "metadata": {},
   "outputs": [],
   "source": [
    "# Dropping reduntand 'id' column\n",
    "ccases = ccases.drop('id', axis = 1)\n",
    "# ccases.head(3)"
   ]
  },
  {
   "cell_type": "markdown",
   "metadata": {},
   "source": [
    "#### Reviewing `channel_id`\n",
    "Check values in `channel_id` and parse them into ` int`, if applicable."
   ]
  },
  {
   "cell_type": "code",
   "execution_count": 20,
   "metadata": {},
   "outputs": [
    {
     "data": {
      "text/plain": [
       "2.0    77489\n",
       "Name: channel_id, dtype: int64"
      ]
     },
     "execution_count": 20,
     "metadata": {},
     "output_type": "execute_result"
    }
   ],
   "source": [
    "ccases['channel_id'].value_counts() # Only one value found; According to the dictionary, this channel represents\n",
    "                                    # calls received by phone. The column can be droped because the analysis is \n",
    "                                    # now specific to that channel."
   ]
  },
  {
   "cell_type": "code",
   "execution_count": 21,
   "metadata": {},
   "outputs": [],
   "source": [
    "# Dropping \"channel_id\"\n",
    "ccases.drop('channel_id', axis = 1, inplace = True)\n",
    "# ccases.head(3)"
   ]
  },
  {
   "cell_type": "markdown",
   "metadata": {},
   "source": [
    "#### Checking duplicated entries"
   ]
  },
  {
   "cell_type": "code",
   "execution_count": 22,
   "metadata": {},
   "outputs": [
    {
     "data": {
      "text/plain": [
       "0"
      ]
     },
     "execution_count": 22,
     "metadata": {},
     "output_type": "execute_result"
    }
   ],
   "source": [
    "ccases.duplicated().sum() # There are no duplicates"
   ]
  },
  {
   "cell_type": "code",
   "execution_count": 23,
   "metadata": {},
   "outputs": [
    {
     "data": {
      "text/html": [
       "<div>\n",
       "<style scoped>\n",
       "    .dataframe tbody tr th:only-of-type {\n",
       "        vertical-align: middle;\n",
       "    }\n",
       "\n",
       "    .dataframe tbody tr th {\n",
       "        vertical-align: top;\n",
       "    }\n",
       "\n",
       "    .dataframe thead th {\n",
       "        text-align: right;\n",
       "    }\n",
       "</style>\n",
       "<table border=\"1\" class=\"dataframe\">\n",
       "  <thead>\n",
       "    <tr style=\"text-align: right;\">\n",
       "      <th></th>\n",
       "      <th>account_id</th>\n",
       "      <th>date_ref</th>\n",
       "      <th>waiting_time</th>\n",
       "      <th>missed</th>\n",
       "      <th>pesq_satisfacao</th>\n",
       "      <th>assunto</th>\n",
       "    </tr>\n",
       "  </thead>\n",
       "  <tbody>\n",
       "    <tr>\n",
       "      <th>0</th>\n",
       "      <td>0011L00002ZbpnlQAB</td>\n",
       "      <td>2020-02-23</td>\n",
       "      <td>19.0</td>\n",
       "      <td>False</td>\n",
       "      <td>Enviado</td>\n",
       "      <td>Produto:mPOS:Dúvidas mpos</td>\n",
       "    </tr>\n",
       "    <tr>\n",
       "      <th>1</th>\n",
       "      <td>0011L00002dbBg5QAE</td>\n",
       "      <td>2020-02-25</td>\n",
       "      <td>15.0</td>\n",
       "      <td>False</td>\n",
       "      <td>Enviado</td>\n",
       "      <td>Aplicativo:Problema:</td>\n",
       "    </tr>\n",
       "    <tr>\n",
       "      <th>2</th>\n",
       "      <td>0011L00002WdgbcQAB</td>\n",
       "      <td>2020-02-26</td>\n",
       "      <td>15.0</td>\n",
       "      <td>False</td>\n",
       "      <td>Enviado</td>\n",
       "      <td>Aplicativo:Dúvidas funcionalidades App:Redefin...</td>\n",
       "    </tr>\n",
       "    <tr>\n",
       "      <th>3</th>\n",
       "      <td>0011L00002WdJgjQAF</td>\n",
       "      <td>2020-02-26</td>\n",
       "      <td>13.0</td>\n",
       "      <td>False</td>\n",
       "      <td>Enviado</td>\n",
       "      <td>Produto:mPOS:Problema POS - revertido</td>\n",
       "    </tr>\n",
       "    <tr>\n",
       "      <th>4</th>\n",
       "      <td>0011L00002We7cjQAB</td>\n",
       "      <td>2020-02-26</td>\n",
       "      <td>72.0</td>\n",
       "      <td>False</td>\n",
       "      <td>Enviado</td>\n",
       "      <td>Aplicativo::</td>\n",
       "    </tr>\n",
       "  </tbody>\n",
       "</table>\n",
       "</div>"
      ],
      "text/plain": [
       "           account_id    date_ref  waiting_time missed pesq_satisfacao  \\\n",
       "0  0011L00002ZbpnlQAB  2020-02-23          19.0  False         Enviado   \n",
       "1  0011L00002dbBg5QAE  2020-02-25          15.0  False         Enviado   \n",
       "2  0011L00002WdgbcQAB  2020-02-26          15.0  False         Enviado   \n",
       "3  0011L00002WdJgjQAF  2020-02-26          13.0  False         Enviado   \n",
       "4  0011L00002We7cjQAB  2020-02-26          72.0  False         Enviado   \n",
       "\n",
       "                                             assunto  \n",
       "0                          Produto:mPOS:Dúvidas mpos  \n",
       "1                               Aplicativo:Problema:  \n",
       "2  Aplicativo:Dúvidas funcionalidades App:Redefin...  \n",
       "3              Produto:mPOS:Problema POS - revertido  \n",
       "4                                       Aplicativo::  "
      ]
     },
     "execution_count": 23,
     "metadata": {},
     "output_type": "execute_result"
    }
   ],
   "source": [
    "ccases = ccases.reset_index(drop = True)\n",
    "ccases.head(5)"
   ]
  },
  {
   "cell_type": "code",
   "execution_count": 24,
   "metadata": {},
   "outputs": [],
   "source": [
    "# ccases.tail(5)"
   ]
  },
  {
   "cell_type": "markdown",
   "metadata": {},
   "source": [
    "#### Parsing `date_ref`"
   ]
  },
  {
   "cell_type": "code",
   "execution_count": 25,
   "metadata": {
    "scrolled": false
   },
   "outputs": [],
   "source": [
    "# Parsing \"date_ref\" to datetime object\n",
    "ccases['date_ref'] = pd.to_datetime(ccases['date_ref'])\n",
    "# ccases.info()"
   ]
  },
  {
   "cell_type": "markdown",
   "metadata": {},
   "source": [
    "#### Feature engineering of temporal data\n",
    "Transforming `waiting_time` column (measured in seconds) to` int` and `timedelta` (for date and time operations)"
   ]
  },
  {
   "cell_type": "code",
   "execution_count": 26,
   "metadata": {},
   "outputs": [],
   "source": [
    "ccases['waiting_time'] = ccases['waiting_time'].astype(int)"
   ]
  },
  {
   "cell_type": "code",
   "execution_count": 27,
   "metadata": {},
   "outputs": [],
   "source": [
    "ccases['waiting_time'] = ccases['waiting_time'].astype(int)\n",
    "ccases['waiting_timedelta'] = pd.to_timedelta(ccases['waiting_time'], unit = 'S')"
   ]
  },
  {
   "cell_type": "code",
   "execution_count": 30,
   "metadata": {},
   "outputs": [],
   "source": [
    "def explode_date(df, date_column, language_ptbr = True):\n",
    "    '''Generates year, month, day and weekday from a single date column.\n",
    "        \n",
    "    :::::::\n",
    "    \n",
    "    df:            DataFrame containing the date column to be exploded.\n",
    "    date_column:   Date column (Series) to be used as base for the transformation.\n",
    "    language_ptbr: If True, parse weekday names to Brazilian Portuguese. \n",
    "                   False, weekdays will be parsed to English.\n",
    "    :::::::\n",
    "\n",
    "    '''\n",
    "    df[date_column] = pd.to_datetime(df[date_column])\n",
    "    df['year'] = df[date_column].dt.year \n",
    "    df['month'] = df[date_column].dt.month\n",
    "    df['day'] = df[date_column].dt.day\n",
    "    df['weekday'] = df[date_column].dt.weekday\n",
    "    \n",
    "    if language_ptbr:\n",
    "        df['weekday_str'] = df['weekday'].map({\n",
    "                                    0: 'Seg',\n",
    "                                    1: 'Ter',\n",
    "                                    2: 'Qua',\n",
    "                                    3: 'Qui',\n",
    "                                    4: 'Sex',\n",
    "                                    5: 'Sab',\n",
    "                                    6: 'Dom'\n",
    "                            })\n",
    "    else:\n",
    "        df['weekday_str'] = df[date_column].dt.day_name().str[0:3]\n",
    "\n",
    "    return df"
   ]
  },
  {
   "cell_type": "code",
   "execution_count": 31,
   "metadata": {},
   "outputs": [
    {
     "data": {
      "text/html": [
       "<div>\n",
       "<style scoped>\n",
       "    .dataframe tbody tr th:only-of-type {\n",
       "        vertical-align: middle;\n",
       "    }\n",
       "\n",
       "    .dataframe tbody tr th {\n",
       "        vertical-align: top;\n",
       "    }\n",
       "\n",
       "    .dataframe thead th {\n",
       "        text-align: right;\n",
       "    }\n",
       "</style>\n",
       "<table border=\"1\" class=\"dataframe\">\n",
       "  <thead>\n",
       "    <tr style=\"text-align: right;\">\n",
       "      <th></th>\n",
       "      <th>account_id</th>\n",
       "      <th>date_ref</th>\n",
       "      <th>waiting_time</th>\n",
       "      <th>missed</th>\n",
       "      <th>pesq_satisfacao</th>\n",
       "      <th>assunto</th>\n",
       "      <th>waiting_timedelta</th>\n",
       "      <th>year</th>\n",
       "      <th>month</th>\n",
       "      <th>day</th>\n",
       "      <th>weekday</th>\n",
       "      <th>weekday_str</th>\n",
       "    </tr>\n",
       "  </thead>\n",
       "  <tbody>\n",
       "    <tr>\n",
       "      <th>0</th>\n",
       "      <td>0011L00002ZbpnlQAB</td>\n",
       "      <td>2020-02-23</td>\n",
       "      <td>19</td>\n",
       "      <td>False</td>\n",
       "      <td>Enviado</td>\n",
       "      <td>Produto:mPOS:Dúvidas mpos</td>\n",
       "      <td>0 days 00:00:19</td>\n",
       "      <td>2020</td>\n",
       "      <td>2</td>\n",
       "      <td>23</td>\n",
       "      <td>6</td>\n",
       "      <td>Dom</td>\n",
       "    </tr>\n",
       "    <tr>\n",
       "      <th>1</th>\n",
       "      <td>0011L00002dbBg5QAE</td>\n",
       "      <td>2020-02-25</td>\n",
       "      <td>15</td>\n",
       "      <td>False</td>\n",
       "      <td>Enviado</td>\n",
       "      <td>Aplicativo:Problema:</td>\n",
       "      <td>0 days 00:00:15</td>\n",
       "      <td>2020</td>\n",
       "      <td>2</td>\n",
       "      <td>25</td>\n",
       "      <td>1</td>\n",
       "      <td>Ter</td>\n",
       "    </tr>\n",
       "    <tr>\n",
       "      <th>2</th>\n",
       "      <td>0011L00002WdgbcQAB</td>\n",
       "      <td>2020-02-26</td>\n",
       "      <td>15</td>\n",
       "      <td>False</td>\n",
       "      <td>Enviado</td>\n",
       "      <td>Aplicativo:Dúvidas funcionalidades App:Redefin...</td>\n",
       "      <td>0 days 00:00:15</td>\n",
       "      <td>2020</td>\n",
       "      <td>2</td>\n",
       "      <td>26</td>\n",
       "      <td>2</td>\n",
       "      <td>Qua</td>\n",
       "    </tr>\n",
       "  </tbody>\n",
       "</table>\n",
       "</div>"
      ],
      "text/plain": [
       "           account_id   date_ref  waiting_time missed pesq_satisfacao  \\\n",
       "0  0011L00002ZbpnlQAB 2020-02-23            19  False         Enviado   \n",
       "1  0011L00002dbBg5QAE 2020-02-25            15  False         Enviado   \n",
       "2  0011L00002WdgbcQAB 2020-02-26            15  False         Enviado   \n",
       "\n",
       "                                             assunto waiting_timedelta  year  \\\n",
       "0                          Produto:mPOS:Dúvidas mpos   0 days 00:00:19  2020   \n",
       "1                               Aplicativo:Problema:   0 days 00:00:15  2020   \n",
       "2  Aplicativo:Dúvidas funcionalidades App:Redefin...   0 days 00:00:15  2020   \n",
       "\n",
       "   month  day  weekday weekday_str  \n",
       "0      2   23        6         Dom  \n",
       "1      2   25        1         Ter  \n",
       "2      2   26        2         Qua  "
      ]
     },
     "execution_count": 31,
     "metadata": {},
     "output_type": "execute_result"
    }
   ],
   "source": [
    "ccases = explode_date(ccases, 'date_ref', language_ptbr = True)\n",
    "ccases.head(3)"
   ]
  },
  {
   "cell_type": "markdown",
   "metadata": {},
   "source": [
    "#### Structuring data in `assunto` (\"subject\", in English)"
   ]
  },
  {
   "cell_type": "code",
   "execution_count": 32,
   "metadata": {},
   "outputs": [],
   "source": [
    "# Separating chained topics and saving them in a list\n",
    "ccases['assunto'] = ccases['assunto'].str.split(':')"
   ]
  },
  {
   "cell_type": "code",
   "execution_count": 34,
   "metadata": {},
   "outputs": [
    {
     "data": {
      "text/html": [
       "<div>\n",
       "<style scoped>\n",
       "    .dataframe tbody tr th:only-of-type {\n",
       "        vertical-align: middle;\n",
       "    }\n",
       "\n",
       "    .dataframe tbody tr th {\n",
       "        vertical-align: top;\n",
       "    }\n",
       "\n",
       "    .dataframe thead th {\n",
       "        text-align: right;\n",
       "    }\n",
       "</style>\n",
       "<table border=\"1\" class=\"dataframe\">\n",
       "  <thead>\n",
       "    <tr style=\"text-align: right;\">\n",
       "      <th></th>\n",
       "      <th>account_id</th>\n",
       "      <th>date_ref</th>\n",
       "      <th>waiting_time</th>\n",
       "      <th>missed</th>\n",
       "      <th>pesq_satisfacao</th>\n",
       "      <th>assunto</th>\n",
       "      <th>waiting_timedelta</th>\n",
       "      <th>year</th>\n",
       "      <th>month</th>\n",
       "      <th>day</th>\n",
       "      <th>weekday</th>\n",
       "      <th>weekday_str</th>\n",
       "      <th>node_1</th>\n",
       "      <th>node_2</th>\n",
       "      <th>node_3</th>\n",
       "    </tr>\n",
       "  </thead>\n",
       "  <tbody>\n",
       "    <tr>\n",
       "      <th>0</th>\n",
       "      <td>0011L00002ZbpnlQAB</td>\n",
       "      <td>2020-02-23</td>\n",
       "      <td>19</td>\n",
       "      <td>False</td>\n",
       "      <td>Enviado</td>\n",
       "      <td>[Produto, mPOS, Dúvidas mpos]</td>\n",
       "      <td>0 days 00:00:19</td>\n",
       "      <td>2020</td>\n",
       "      <td>2</td>\n",
       "      <td>23</td>\n",
       "      <td>6</td>\n",
       "      <td>Dom</td>\n",
       "      <td>Produto</td>\n",
       "      <td>mPOS</td>\n",
       "      <td>Dúvidas mpos</td>\n",
       "    </tr>\n",
       "    <tr>\n",
       "      <th>1</th>\n",
       "      <td>0011L00002dbBg5QAE</td>\n",
       "      <td>2020-02-25</td>\n",
       "      <td>15</td>\n",
       "      <td>False</td>\n",
       "      <td>Enviado</td>\n",
       "      <td>[Aplicativo, Problema, ]</td>\n",
       "      <td>0 days 00:00:15</td>\n",
       "      <td>2020</td>\n",
       "      <td>2</td>\n",
       "      <td>25</td>\n",
       "      <td>1</td>\n",
       "      <td>Ter</td>\n",
       "      <td>Aplicativo</td>\n",
       "      <td>Problema</td>\n",
       "      <td>NaN</td>\n",
       "    </tr>\n",
       "    <tr>\n",
       "      <th>2</th>\n",
       "      <td>0011L00002WdgbcQAB</td>\n",
       "      <td>2020-02-26</td>\n",
       "      <td>15</td>\n",
       "      <td>False</td>\n",
       "      <td>Enviado</td>\n",
       "      <td>[Aplicativo, Dúvidas funcionalidades App, Rede...</td>\n",
       "      <td>0 days 00:00:15</td>\n",
       "      <td>2020</td>\n",
       "      <td>2</td>\n",
       "      <td>26</td>\n",
       "      <td>2</td>\n",
       "      <td>Qua</td>\n",
       "      <td>Aplicativo</td>\n",
       "      <td>Dúvidas funcionalidades App</td>\n",
       "      <td>Redefinição de senha</td>\n",
       "    </tr>\n",
       "  </tbody>\n",
       "</table>\n",
       "</div>"
      ],
      "text/plain": [
       "           account_id   date_ref  waiting_time missed pesq_satisfacao  \\\n",
       "0  0011L00002ZbpnlQAB 2020-02-23            19  False         Enviado   \n",
       "1  0011L00002dbBg5QAE 2020-02-25            15  False         Enviado   \n",
       "2  0011L00002WdgbcQAB 2020-02-26            15  False         Enviado   \n",
       "\n",
       "                                             assunto waiting_timedelta  year  \\\n",
       "0                      [Produto, mPOS, Dúvidas mpos]   0 days 00:00:19  2020   \n",
       "1                           [Aplicativo, Problema, ]   0 days 00:00:15  2020   \n",
       "2  [Aplicativo, Dúvidas funcionalidades App, Rede...   0 days 00:00:15  2020   \n",
       "\n",
       "   month  day  weekday weekday_str      node_1                       node_2  \\\n",
       "0      2   23        6         Dom     Produto                         mPOS   \n",
       "1      2   25        1         Ter  Aplicativo                     Problema   \n",
       "2      2   26        2         Qua  Aplicativo  Dúvidas funcionalidades App   \n",
       "\n",
       "                 node_3  \n",
       "0          Dúvidas mpos  \n",
       "1                   NaN  \n",
       "2  Redefinição de senha  "
      ]
     },
     "execution_count": 34,
     "metadata": {},
     "output_type": "execute_result"
    }
   ],
   "source": [
    "# Creating specific columns for each topic (calling them nodes)\n",
    "ccases[['node_1','node_2', 'node_3']] = pd.DataFrame(ccases['assunto'].tolist(), index = ccases.index)\n",
    "\n",
    "# Filling null valiues with NaNs\n",
    "ccases[['node_1', 'node_2', 'node_3']] = ccases[['node_1', 'node_2', 'node_3']].replace('', np.nan)\n",
    "ccases.head(3)"
   ]
  },
  {
   "cell_type": "markdown",
   "metadata": {},
   "source": [
    "### Cleaning `creds` dataset"
   ]
  },
  {
   "cell_type": "code",
   "execution_count": 35,
   "metadata": {},
   "outputs": [
    {
     "data": {
      "text/html": [
       "<div>\n",
       "<style scoped>\n",
       "    .dataframe tbody tr th:only-of-type {\n",
       "        vertical-align: middle;\n",
       "    }\n",
       "\n",
       "    .dataframe tbody tr th {\n",
       "        vertical-align: top;\n",
       "    }\n",
       "\n",
       "    .dataframe thead th {\n",
       "        text-align: right;\n",
       "    }\n",
       "</style>\n",
       "<table border=\"1\" class=\"dataframe\">\n",
       "  <thead>\n",
       "    <tr style=\"text-align: right;\">\n",
       "      <th></th>\n",
       "      <th>Unnamed: 0</th>\n",
       "      <th>cred_date</th>\n",
       "      <th>shipping_address_city</th>\n",
       "      <th>shipping_address_state</th>\n",
       "      <th>max_machine</th>\n",
       "      <th>accountid</th>\n",
       "    </tr>\n",
       "  </thead>\n",
       "  <tbody>\n",
       "    <tr>\n",
       "      <th>0</th>\n",
       "      <td>0</td>\n",
       "      <td>2020-04-18</td>\n",
       "      <td>Feira de Santana</td>\n",
       "      <td>BA</td>\n",
       "      <td>T1</td>\n",
       "      <td>NaN</td>\n",
       "    </tr>\n",
       "    <tr>\n",
       "      <th>1</th>\n",
       "      <td>1</td>\n",
       "      <td>2020-10-16</td>\n",
       "      <td>Bacuri</td>\n",
       "      <td>MA</td>\n",
       "      <td>T1</td>\n",
       "      <td>NaN</td>\n",
       "    </tr>\n",
       "    <tr>\n",
       "      <th>2</th>\n",
       "      <td>2</td>\n",
       "      <td>2020-09-01</td>\n",
       "      <td>Bernardo Sayão</td>\n",
       "      <td>TO</td>\n",
       "      <td>T1</td>\n",
       "      <td>NaN</td>\n",
       "    </tr>\n",
       "  </tbody>\n",
       "</table>\n",
       "</div>"
      ],
      "text/plain": [
       "   Unnamed: 0   cred_date shipping_address_city shipping_address_state  \\\n",
       "0           0  2020-04-18      Feira de Santana                     BA   \n",
       "1           1  2020-10-16                Bacuri                     MA   \n",
       "2           2  2020-09-01        Bernardo Sayão                     TO   \n",
       "\n",
       "  max_machine accountid  \n",
       "0          T1       NaN  \n",
       "1          T1       NaN  \n",
       "2          T1       NaN  "
      ]
     },
     "execution_count": 35,
     "metadata": {},
     "output_type": "execute_result"
    }
   ],
   "source": [
    "creds.head(3)"
   ]
  },
  {
   "cell_type": "markdown",
   "metadata": {},
   "source": [
    "#### Renaming Columns"
   ]
  },
  {
   "cell_type": "code",
   "execution_count": 36,
   "metadata": {},
   "outputs": [
    {
     "data": {
      "text/html": [
       "<div>\n",
       "<style scoped>\n",
       "    .dataframe tbody tr th:only-of-type {\n",
       "        vertical-align: middle;\n",
       "    }\n",
       "\n",
       "    .dataframe tbody tr th {\n",
       "        vertical-align: top;\n",
       "    }\n",
       "\n",
       "    .dataframe thead th {\n",
       "        text-align: right;\n",
       "    }\n",
       "</style>\n",
       "<table border=\"1\" class=\"dataframe\">\n",
       "  <thead>\n",
       "    <tr style=\"text-align: right;\">\n",
       "      <th></th>\n",
       "      <th>unnamed</th>\n",
       "      <th>cred_date</th>\n",
       "      <th>ship_city</th>\n",
       "      <th>ship_state</th>\n",
       "      <th>max_machine</th>\n",
       "      <th>account_id</th>\n",
       "    </tr>\n",
       "  </thead>\n",
       "  <tbody>\n",
       "    <tr>\n",
       "      <th>0</th>\n",
       "      <td>0</td>\n",
       "      <td>2020-04-18</td>\n",
       "      <td>Feira de Santana</td>\n",
       "      <td>BA</td>\n",
       "      <td>T1</td>\n",
       "      <td>NaN</td>\n",
       "    </tr>\n",
       "    <tr>\n",
       "      <th>1</th>\n",
       "      <td>1</td>\n",
       "      <td>2020-10-16</td>\n",
       "      <td>Bacuri</td>\n",
       "      <td>MA</td>\n",
       "      <td>T1</td>\n",
       "      <td>NaN</td>\n",
       "    </tr>\n",
       "    <tr>\n",
       "      <th>2</th>\n",
       "      <td>2</td>\n",
       "      <td>2020-09-01</td>\n",
       "      <td>Bernardo Sayão</td>\n",
       "      <td>TO</td>\n",
       "      <td>T1</td>\n",
       "      <td>NaN</td>\n",
       "    </tr>\n",
       "  </tbody>\n",
       "</table>\n",
       "</div>"
      ],
      "text/plain": [
       "   unnamed   cred_date         ship_city ship_state max_machine account_id\n",
       "0        0  2020-04-18  Feira de Santana         BA          T1        NaN\n",
       "1        1  2020-10-16            Bacuri         MA          T1        NaN\n",
       "2        2  2020-09-01    Bernardo Sayão         TO          T1        NaN"
      ]
     },
     "execution_count": 36,
     "metadata": {},
     "output_type": "execute_result"
    }
   ],
   "source": [
    "creds.columns = ['unnamed', 'cred_date', 'ship_city', 'ship_state', 'max_machine', 'account_id']\n",
    "creds.head(3)"
   ]
  },
  {
   "cell_type": "markdown",
   "metadata": {},
   "source": [
    "#### Dropping `unnamed`"
   ]
  },
  {
   "cell_type": "code",
   "execution_count": 37,
   "metadata": {},
   "outputs": [
    {
     "data": {
      "text/html": [
       "<div>\n",
       "<style scoped>\n",
       "    .dataframe tbody tr th:only-of-type {\n",
       "        vertical-align: middle;\n",
       "    }\n",
       "\n",
       "    .dataframe tbody tr th {\n",
       "        vertical-align: top;\n",
       "    }\n",
       "\n",
       "    .dataframe thead th {\n",
       "        text-align: right;\n",
       "    }\n",
       "</style>\n",
       "<table border=\"1\" class=\"dataframe\">\n",
       "  <thead>\n",
       "    <tr style=\"text-align: right;\">\n",
       "      <th></th>\n",
       "      <th>cred_date</th>\n",
       "      <th>ship_city</th>\n",
       "      <th>ship_state</th>\n",
       "      <th>max_machine</th>\n",
       "      <th>account_id</th>\n",
       "    </tr>\n",
       "  </thead>\n",
       "  <tbody>\n",
       "    <tr>\n",
       "      <th>0</th>\n",
       "      <td>2020-04-18</td>\n",
       "      <td>Feira de Santana</td>\n",
       "      <td>BA</td>\n",
       "      <td>T1</td>\n",
       "      <td>NaN</td>\n",
       "    </tr>\n",
       "    <tr>\n",
       "      <th>1</th>\n",
       "      <td>2020-10-16</td>\n",
       "      <td>Bacuri</td>\n",
       "      <td>MA</td>\n",
       "      <td>T1</td>\n",
       "      <td>NaN</td>\n",
       "    </tr>\n",
       "    <tr>\n",
       "      <th>2</th>\n",
       "      <td>2020-09-01</td>\n",
       "      <td>Bernardo Sayão</td>\n",
       "      <td>TO</td>\n",
       "      <td>T1</td>\n",
       "      <td>NaN</td>\n",
       "    </tr>\n",
       "  </tbody>\n",
       "</table>\n",
       "</div>"
      ],
      "text/plain": [
       "    cred_date         ship_city ship_state max_machine account_id\n",
       "0  2020-04-18  Feira de Santana         BA          T1        NaN\n",
       "1  2020-10-16            Bacuri         MA          T1        NaN\n",
       "2  2020-09-01    Bernardo Sayão         TO          T1        NaN"
      ]
     },
     "execution_count": 37,
     "metadata": {},
     "output_type": "execute_result"
    }
   ],
   "source": [
    "ccreds = creds.drop('unnamed', axis = 1)\n",
    "ccreds.head(3)"
   ]
  },
  {
   "cell_type": "markdown",
   "metadata": {},
   "source": [
    "#### Ordering dataset by `cred_date`"
   ]
  },
  {
   "cell_type": "code",
   "execution_count": 38,
   "metadata": {},
   "outputs": [],
   "source": [
    "ccreds = ccreds.sort_values(by = 'cred_date').reset_index(drop = True)"
   ]
  },
  {
   "cell_type": "markdown",
   "metadata": {},
   "source": [
    "#### Parsing `cred_date`"
   ]
  },
  {
   "cell_type": "code",
   "execution_count": 39,
   "metadata": {
    "scrolled": true
   },
   "outputs": [
    {
     "data": {
      "text/html": [
       "<div>\n",
       "<style scoped>\n",
       "    .dataframe tbody tr th:only-of-type {\n",
       "        vertical-align: middle;\n",
       "    }\n",
       "\n",
       "    .dataframe tbody tr th {\n",
       "        vertical-align: top;\n",
       "    }\n",
       "\n",
       "    .dataframe thead th {\n",
       "        text-align: right;\n",
       "    }\n",
       "</style>\n",
       "<table border=\"1\" class=\"dataframe\">\n",
       "  <thead>\n",
       "    <tr style=\"text-align: right;\">\n",
       "      <th></th>\n",
       "      <th>cred_date</th>\n",
       "      <th>ship_city</th>\n",
       "      <th>ship_state</th>\n",
       "      <th>max_machine</th>\n",
       "      <th>account_id</th>\n",
       "      <th>year</th>\n",
       "      <th>month</th>\n",
       "      <th>day</th>\n",
       "      <th>weekday</th>\n",
       "      <th>weekday_str</th>\n",
       "    </tr>\n",
       "  </thead>\n",
       "  <tbody>\n",
       "    <tr>\n",
       "      <th>0</th>\n",
       "      <td>2019-07-11</td>\n",
       "      <td>São Paulo</td>\n",
       "      <td>SP</td>\n",
       "      <td>NONE</td>\n",
       "      <td>NaN</td>\n",
       "      <td>2019</td>\n",
       "      <td>7</td>\n",
       "      <td>11</td>\n",
       "      <td>3</td>\n",
       "      <td>Qui</td>\n",
       "    </tr>\n",
       "    <tr>\n",
       "      <th>1</th>\n",
       "      <td>2019-07-23</td>\n",
       "      <td>Mogi das Cruzes</td>\n",
       "      <td>SP</td>\n",
       "      <td>NONE</td>\n",
       "      <td>NaN</td>\n",
       "      <td>2019</td>\n",
       "      <td>7</td>\n",
       "      <td>23</td>\n",
       "      <td>1</td>\n",
       "      <td>Ter</td>\n",
       "    </tr>\n",
       "    <tr>\n",
       "      <th>2</th>\n",
       "      <td>2019-07-23</td>\n",
       "      <td>São Luís</td>\n",
       "      <td>MA</td>\n",
       "      <td>NONE</td>\n",
       "      <td>NaN</td>\n",
       "      <td>2019</td>\n",
       "      <td>7</td>\n",
       "      <td>23</td>\n",
       "      <td>1</td>\n",
       "      <td>Ter</td>\n",
       "    </tr>\n",
       "  </tbody>\n",
       "</table>\n",
       "</div>"
      ],
      "text/plain": [
       "   cred_date        ship_city ship_state max_machine account_id  year  month  \\\n",
       "0 2019-07-11        São Paulo         SP        NONE        NaN  2019      7   \n",
       "1 2019-07-23  Mogi das Cruzes         SP        NONE        NaN  2019      7   \n",
       "2 2019-07-23         São Luís         MA        NONE        NaN  2019      7   \n",
       "\n",
       "   day  weekday weekday_str  \n",
       "0   11        3         Qui  \n",
       "1   23        1         Ter  \n",
       "2   23        1         Ter  "
      ]
     },
     "execution_count": 39,
     "metadata": {},
     "output_type": "execute_result"
    }
   ],
   "source": [
    "explode_date(ccreds, 'cred_date', language_ptbr = True)\n",
    "ccreds.head(3)"
   ]
  },
  {
   "cell_type": "markdown",
   "metadata": {},
   "source": [
    "#### Checking duplicates"
   ]
  },
  {
   "cell_type": "code",
   "execution_count": 40,
   "metadata": {},
   "outputs": [
    {
     "name": "stdout",
     "output_type": "stream",
     "text": [
      "60832 entries must be removed.\n"
     ]
    }
   ],
   "source": [
    "print(f'{ccreds.duplicated().sum()} entries must be removed.') # There are duplicated entries that need to be removed"
   ]
  },
  {
   "cell_type": "code",
   "execution_count": 41,
   "metadata": {},
   "outputs": [
    {
     "data": {
      "text/html": [
       "<div>\n",
       "<style scoped>\n",
       "    .dataframe tbody tr th:only-of-type {\n",
       "        vertical-align: middle;\n",
       "    }\n",
       "\n",
       "    .dataframe tbody tr th {\n",
       "        vertical-align: top;\n",
       "    }\n",
       "\n",
       "    .dataframe thead th {\n",
       "        text-align: right;\n",
       "    }\n",
       "</style>\n",
       "<table border=\"1\" class=\"dataframe\">\n",
       "  <thead>\n",
       "    <tr style=\"text-align: right;\">\n",
       "      <th></th>\n",
       "      <th>unnamed</th>\n",
       "      <th>cred_date</th>\n",
       "      <th>ship_city</th>\n",
       "      <th>ship_state</th>\n",
       "      <th>max_machine</th>\n",
       "      <th>account_id</th>\n",
       "    </tr>\n",
       "  </thead>\n",
       "  <tbody>\n",
       "    <tr>\n",
       "      <th>0</th>\n",
       "      <td>0</td>\n",
       "      <td>2020-04-18</td>\n",
       "      <td>Feira de Santana</td>\n",
       "      <td>BA</td>\n",
       "      <td>T1</td>\n",
       "      <td>NaN</td>\n",
       "    </tr>\n",
       "    <tr>\n",
       "      <th>1</th>\n",
       "      <td>1</td>\n",
       "      <td>2020-10-16</td>\n",
       "      <td>Bacuri</td>\n",
       "      <td>MA</td>\n",
       "      <td>T1</td>\n",
       "      <td>NaN</td>\n",
       "    </tr>\n",
       "    <tr>\n",
       "      <th>2</th>\n",
       "      <td>2</td>\n",
       "      <td>2020-09-01</td>\n",
       "      <td>Bernardo Sayão</td>\n",
       "      <td>TO</td>\n",
       "      <td>T1</td>\n",
       "      <td>NaN</td>\n",
       "    </tr>\n",
       "  </tbody>\n",
       "</table>\n",
       "</div>"
      ],
      "text/plain": [
       "   unnamed   cred_date         ship_city ship_state max_machine account_id\n",
       "0        0  2020-04-18  Feira de Santana         BA          T1        NaN\n",
       "1        1  2020-10-16            Bacuri         MA          T1        NaN\n",
       "2        2  2020-09-01    Bernardo Sayão         TO          T1        NaN"
      ]
     },
     "execution_count": 41,
     "metadata": {},
     "output_type": "execute_result"
    }
   ],
   "source": [
    "# Removing dupliated entries\n",
    "ccreds = ccreds.drop_duplicates()\n",
    "creds.head(3)"
   ]
  },
  {
   "cell_type": "markdown",
   "metadata": {},
   "source": [
    "**Some considerations**\n",
    "\n",
    "It is an interesting situation. According to the data dictionary, this is a dataset of registered customers, counting even with a register date. As we have seen, many values were duplicated. It is possible, therefore, that there are more duplicate lines, but this information, without knowing the value `account_id`, is merely speculation. And speculation and _data-driven_ analysis are the exact opposite of each other...\n",
    "\n",
    "In principle, I considered that these entries could represent a first contact with the relationship center, a _lead_. But most lines have an associated payment machine. If there is an associated machine, then, in my limited understanding at the moment, there would be an `account_id`.\n",
    "\n",
    "In an ideal situation, I would like to talk to the owner of this dataset in order to understand it better and find out if it is an import error that erases some values of `account_id` or an error of some other type.\n",
    "\n",
    "For now, I will save this data in another dataset, specific with entries without `account_id` and drop those lines from the main dataset` ccred`."
   ]
  },
  {
   "cell_type": "markdown",
   "metadata": {},
   "source": [
    "#### Saving entries with no `account_id` into a new dataset, `ccreds_naid`"
   ]
  },
  {
   "cell_type": "code",
   "execution_count": 42,
   "metadata": {},
   "outputs": [
    {
     "data": {
      "text/html": [
       "<div>\n",
       "<style scoped>\n",
       "    .dataframe tbody tr th:only-of-type {\n",
       "        vertical-align: middle;\n",
       "    }\n",
       "\n",
       "    .dataframe tbody tr th {\n",
       "        vertical-align: top;\n",
       "    }\n",
       "\n",
       "    .dataframe thead th {\n",
       "        text-align: right;\n",
       "    }\n",
       "</style>\n",
       "<table border=\"1\" class=\"dataframe\">\n",
       "  <thead>\n",
       "    <tr style=\"text-align: right;\">\n",
       "      <th></th>\n",
       "      <th>cred_date</th>\n",
       "      <th>ship_city</th>\n",
       "      <th>ship_state</th>\n",
       "      <th>max_machine</th>\n",
       "      <th>account_id</th>\n",
       "      <th>year</th>\n",
       "      <th>month</th>\n",
       "      <th>day</th>\n",
       "      <th>weekday</th>\n",
       "      <th>weekday_str</th>\n",
       "    </tr>\n",
       "  </thead>\n",
       "  <tbody>\n",
       "    <tr>\n",
       "      <th>0</th>\n",
       "      <td>2019-07-11</td>\n",
       "      <td>São Paulo</td>\n",
       "      <td>SP</td>\n",
       "      <td>NONE</td>\n",
       "      <td>NaN</td>\n",
       "      <td>2019</td>\n",
       "      <td>7</td>\n",
       "      <td>11</td>\n",
       "      <td>3</td>\n",
       "      <td>Qui</td>\n",
       "    </tr>\n",
       "    <tr>\n",
       "      <th>1</th>\n",
       "      <td>2019-07-23</td>\n",
       "      <td>Mogi das Cruzes</td>\n",
       "      <td>SP</td>\n",
       "      <td>NONE</td>\n",
       "      <td>NaN</td>\n",
       "      <td>2019</td>\n",
       "      <td>7</td>\n",
       "      <td>23</td>\n",
       "      <td>1</td>\n",
       "      <td>Ter</td>\n",
       "    </tr>\n",
       "    <tr>\n",
       "      <th>2</th>\n",
       "      <td>2019-07-23</td>\n",
       "      <td>São Luís</td>\n",
       "      <td>MA</td>\n",
       "      <td>NONE</td>\n",
       "      <td>NaN</td>\n",
       "      <td>2019</td>\n",
       "      <td>7</td>\n",
       "      <td>23</td>\n",
       "      <td>1</td>\n",
       "      <td>Ter</td>\n",
       "    </tr>\n",
       "    <tr>\n",
       "      <th>3</th>\n",
       "      <td>2019-07-23</td>\n",
       "      <td>Recife</td>\n",
       "      <td>PE</td>\n",
       "      <td>T1</td>\n",
       "      <td>NaN</td>\n",
       "      <td>2019</td>\n",
       "      <td>7</td>\n",
       "      <td>23</td>\n",
       "      <td>1</td>\n",
       "      <td>Ter</td>\n",
       "    </tr>\n",
       "    <tr>\n",
       "      <th>4</th>\n",
       "      <td>2019-07-23</td>\n",
       "      <td>Teresina</td>\n",
       "      <td>PI</td>\n",
       "      <td>NONE</td>\n",
       "      <td>NaN</td>\n",
       "      <td>2019</td>\n",
       "      <td>7</td>\n",
       "      <td>23</td>\n",
       "      <td>1</td>\n",
       "      <td>Ter</td>\n",
       "    </tr>\n",
       "  </tbody>\n",
       "</table>\n",
       "</div>"
      ],
      "text/plain": [
       "   cred_date        ship_city ship_state max_machine account_id  year  month  \\\n",
       "0 2019-07-11        São Paulo         SP        NONE        NaN  2019      7   \n",
       "1 2019-07-23  Mogi das Cruzes         SP        NONE        NaN  2019      7   \n",
       "2 2019-07-23         São Luís         MA        NONE        NaN  2019      7   \n",
       "3 2019-07-23           Recife         PE          T1        NaN  2019      7   \n",
       "4 2019-07-23         Teresina         PI        NONE        NaN  2019      7   \n",
       "\n",
       "   day  weekday weekday_str  \n",
       "0   11        3         Qui  \n",
       "1   23        1         Ter  \n",
       "2   23        1         Ter  \n",
       "3   23        1         Ter  \n",
       "4   23        1         Ter  "
      ]
     },
     "execution_count": 42,
     "metadata": {},
     "output_type": "execute_result"
    }
   ],
   "source": [
    "ccreds_naid = ccreds[ccreds['account_id'].isna()]\n",
    "ccreds_naid.head()"
   ]
  },
  {
   "cell_type": "code",
   "execution_count": 43,
   "metadata": {},
   "outputs": [
    {
     "data": {
      "text/plain": [
       "34728"
      ]
     },
     "execution_count": 43,
     "metadata": {},
     "output_type": "execute_result"
    }
   ],
   "source": [
    "ccreds_naid.shape[0] # Total de entradas sem account_id"
   ]
  },
  {
   "cell_type": "markdown",
   "metadata": {},
   "source": [
    "**Checking entries with no associated payment machine (`max_machine` = NONE)**"
   ]
  },
  {
   "cell_type": "code",
   "execution_count": 44,
   "metadata": {},
   "outputs": [
    {
     "data": {
      "text/plain": [
       "752"
      ]
     },
     "execution_count": 44,
     "metadata": {},
     "output_type": "execute_result"
    }
   ],
   "source": [
    "ccreds_naid[ccreds_naid['max_machine'] == 'NONE'].shape[0] # Of 34,728 entries with no register of account_id, \n",
    "                                                           # only 752 do not have a payment machine associated with it"
   ]
  },
  {
   "cell_type": "markdown",
   "metadata": {},
   "source": [
    "#### Removing Nulls"
   ]
  },
  {
   "cell_type": "code",
   "execution_count": 45,
   "metadata": {},
   "outputs": [
    {
     "data": {
      "text/html": [
       "<div>\n",
       "<style scoped>\n",
       "    .dataframe tbody tr th:only-of-type {\n",
       "        vertical-align: middle;\n",
       "    }\n",
       "\n",
       "    .dataframe tbody tr th {\n",
       "        vertical-align: top;\n",
       "    }\n",
       "\n",
       "    .dataframe thead th {\n",
       "        text-align: right;\n",
       "    }\n",
       "</style>\n",
       "<table border=\"1\" class=\"dataframe\">\n",
       "  <thead>\n",
       "    <tr style=\"text-align: right;\">\n",
       "      <th></th>\n",
       "      <th>cred_date</th>\n",
       "      <th>ship_city</th>\n",
       "      <th>ship_state</th>\n",
       "      <th>max_machine</th>\n",
       "      <th>account_id</th>\n",
       "      <th>year</th>\n",
       "      <th>month</th>\n",
       "      <th>day</th>\n",
       "      <th>weekday</th>\n",
       "      <th>weekday_str</th>\n",
       "    </tr>\n",
       "  </thead>\n",
       "  <tbody>\n",
       "    <tr>\n",
       "      <th>10</th>\n",
       "      <td>2019-07-24</td>\n",
       "      <td>Curitiba</td>\n",
       "      <td>PR</td>\n",
       "      <td>T1</td>\n",
       "      <td>0011L00002WdC77QAF</td>\n",
       "      <td>2019</td>\n",
       "      <td>7</td>\n",
       "      <td>24</td>\n",
       "      <td>2</td>\n",
       "      <td>Qua</td>\n",
       "    </tr>\n",
       "    <tr>\n",
       "      <th>12</th>\n",
       "      <td>2019-07-24</td>\n",
       "      <td>Recife</td>\n",
       "      <td>PE</td>\n",
       "      <td>T1</td>\n",
       "      <td>0011L00002WdB4gQAF</td>\n",
       "      <td>2019</td>\n",
       "      <td>7</td>\n",
       "      <td>24</td>\n",
       "      <td>2</td>\n",
       "      <td>Qua</td>\n",
       "    </tr>\n",
       "    <tr>\n",
       "      <th>17</th>\n",
       "      <td>2019-07-24</td>\n",
       "      <td>Betim</td>\n",
       "      <td>MG</td>\n",
       "      <td>T1</td>\n",
       "      <td>0011L00002Wd777QAB</td>\n",
       "      <td>2019</td>\n",
       "      <td>7</td>\n",
       "      <td>24</td>\n",
       "      <td>2</td>\n",
       "      <td>Qua</td>\n",
       "    </tr>\n",
       "  </tbody>\n",
       "</table>\n",
       "</div>"
      ],
      "text/plain": [
       "    cred_date ship_city ship_state max_machine          account_id  year  \\\n",
       "10 2019-07-24  Curitiba         PR          T1  0011L00002WdC77QAF  2019   \n",
       "12 2019-07-24    Recife         PE          T1  0011L00002WdB4gQAF  2019   \n",
       "17 2019-07-24     Betim         MG          T1  0011L00002Wd777QAB  2019   \n",
       "\n",
       "    month  day  weekday weekday_str  \n",
       "10      7   24        2         Qua  \n",
       "12      7   24        2         Qua  \n",
       "17      7   24        2         Qua  "
      ]
     },
     "execution_count": 45,
     "metadata": {},
     "output_type": "execute_result"
    }
   ],
   "source": [
    "ccreds = ccreds.dropna(subset = ['account_id'])\n",
    "ccreds.head(3)"
   ]
  },
  {
   "cell_type": "code",
   "execution_count": 46,
   "metadata": {},
   "outputs": [
    {
     "data": {
      "text/plain": [
       "True"
      ]
     },
     "execution_count": 46,
     "metadata": {},
     "output_type": "execute_result"
    }
   ],
   "source": [
    "# Checking if all 'account_id' remaning entries have unique values\n",
    "ccreds.shape[0] == ccreds['account_id'].nunique()"
   ]
  },
  {
   "cell_type": "markdown",
   "metadata": {},
   "source": [
    "---"
   ]
  },
  {
   "cell_type": "markdown",
   "metadata": {},
   "source": [
    "### Exporting cleaned datasets"
   ]
  },
  {
   "cell_type": "code",
   "execution_count": 47,
   "metadata": {},
   "outputs": [],
   "source": [
    "# ccases.info()"
   ]
  },
  {
   "cell_type": "code",
   "execution_count": 48,
   "metadata": {},
   "outputs": [],
   "source": [
    "ccases.to_csv('data/cases_cleaned.csv', index = False)\n",
    "ccreds.to_csv('data/creds_cleaned.csv', index = False)\n",
    "ccreds_naid.to_csv('data/creds_noids.csv', index = False)"
   ]
  },
  {
   "cell_type": "markdown",
   "metadata": {},
   "source": [
    "**The next step is the analysis of the data itself.**\n",
    "\n",
    "For better organization, it will be carried out in a new Notebook."
   ]
  },
  {
   "cell_type": "markdown",
   "metadata": {},
   "source": [
    "# TO INCLUDE IN THE ANALYSIS"
   ]
  },
  {
   "cell_type": "code",
   "execution_count": 49,
   "metadata": {},
   "outputs": [],
   "source": [
    "# # Counting topics per node\n",
    "# print('Qtd. tópicos no node_1:  ', ccases['node_1'].nunique(dropna = False))\n",
    "# print('Qtd. tópicos no node_2:  ', ccases['node_2'].nunique(dropna = False))\n",
    "# print('Qtd. tópicos no node_3: ', ccases['node_3'].nunique(dropna = False), '\\n')\n",
    "\n",
    "# print('Qtd. valores faltantes no node_1:   ', ccases['node_1'].isna().sum(), '<-- What are those?')\n",
    "# print('Qtd. valores faltantes no node_2:  ', ccases['node_2'].isna().sum())\n",
    "# print('Qtd. valores faltantes no node_3: ', ccases['node_3'].isna().sum())\n",
    "\n",
    "# # Transforming topics into sets to assess whether they are subsets of each other\n",
    "# topics_node_1 = set(ccases['node_1'].value_counts(dropna = False).index.tolist())\n",
    "# topics_node_2 = set(ccases['node_2'].value_counts(dropna = False).index.tolist())\n",
    "# topics_node_3 = set(ccases['node_3'].value_counts(dropna = False).index.tolist())"
   ]
  },
  {
   "cell_type": "code",
   "execution_count": 58,
   "metadata": {},
   "outputs": [],
   "source": [
    "# # Checking if sets are subsets of each other\n",
    "# topics_node_2.issubset(topics_node_1), \\\n",
    "# topics_node_3.issubset(topics_node_2), \\\n",
    "# topics_node_3.issubset(topics_node_1)   "
   ]
  },
  {
   "cell_type": "code",
   "execution_count": 59,
   "metadata": {},
   "outputs": [],
   "source": [
    "# ccases[ccases['node_1'].isna()].head(10)"
   ]
  },
  {
   "cell_type": "code",
   "execution_count": null,
   "metadata": {},
   "outputs": [],
   "source": []
  }
 ],
 "metadata": {
  "kernelspec": {
   "name": "python386jvsc74a57bd07b0fa977d03ee92ce9bac8cf15e526905808b3b44d4832aa03e42287718bd9d4",
   "display_name": "Python 3.8.6 64-bit ('lewagon')"
  },
  "language_info": {
   "codemirror_mode": {
    "name": "ipython",
    "version": 3
   },
   "file_extension": ".py",
   "mimetype": "text/x-python",
   "name": "python",
   "nbconvert_exporter": "python",
   "pygments_lexer": "ipython3",
   "version": "3.8.6-final"
  },
  "toc": {
   "base_numbering": 1,
   "nav_menu": {},
   "number_sections": true,
   "sideBar": true,
   "skip_h1_title": false,
   "title_cell": "Table of Contents",
   "title_sidebar": "Contents",
   "toc_cell": false,
   "toc_position": {
    "height": "calc(100% - 180px)",
    "left": "10px",
    "top": "150px",
    "width": "295.014px"
   },
   "toc_section_display": true,
   "toc_window_display": false
  },
  "varInspector": {
   "cols": {
    "lenName": 16,
    "lenType": 16,
    "lenVar": 40
   },
   "kernels_config": {
    "python": {
     "delete_cmd_postfix": "",
     "delete_cmd_prefix": "del ",
     "library": "var_list.py",
     "varRefreshCmd": "print(var_dic_list())"
    },
    "r": {
     "delete_cmd_postfix": ") ",
     "delete_cmd_prefix": "rm(",
     "library": "var_list.r",
     "varRefreshCmd": "cat(var_dic_list()) "
    }
   },
   "types_to_exclude": [
    "module",
    "function",
    "builtin_function_or_method",
    "instance",
    "_Feature"
   ],
   "window_display": false
  }
 },
 "nbformat": 4,
 "nbformat_minor": 4
}